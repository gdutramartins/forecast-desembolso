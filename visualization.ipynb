{
 "cells": [
  {
   "cell_type": "code",
   "execution_count": 35,
   "id": "ae679ad0-2df3-4fdd-a9e7-66ab1191b3ea",
   "metadata": {},
   "outputs": [],
   "source": [
    "import pandas as pd\n",
    "from pandas import Grouper, DataFrame\n",
    "from pandas.plotting import autocorrelation_plot\n",
    "\n",
    "import numpy as np\n",
    "import os\n",
    "from datetime import datetime\n",
    "from typing import List\n",
    "\n",
    "from matplotlib import pyplot as plt\n",
    "import seaborn"
   ]
  },
  {
   "cell_type": "markdown",
   "id": "6948a342-c543-47d7-854a-f80637256ea6",
   "metadata": {},
   "source": [
    "### Constantes"
   ]
  },
  {
   "cell_type": "code",
   "execution_count": 2,
   "id": "f5daf9fb-97bf-4b94-bfb1-b311905ac779",
   "metadata": {},
   "outputs": [],
   "source": [
    "DIR_DATASET: str = os.path.join('datasets', 'dados-gerados')\n",
    "\n",
    "DATASET_OEC_MPME = os.path.join(DIR_DATASET,  'oec_mpme.csv')\n",
    "\n",
    "DAT_CORRENTE = datetime.today().strftime(\"%Y-%m-%d\")"
   ]
  },
  {
   "cell_type": "code",
   "execution_count": 7,
   "id": "17937e34-a483-419b-bb22-01b24281d1e5",
   "metadata": {},
   "outputs": [],
   "source": [
    "df_oec_mpme = pd.read_csv(DATASET_OEC_MPME, sep=';', decimal=',', parse_dates=True)"
   ]
  },
  {
   "cell_type": "code",
   "execution_count": 9,
   "id": "d6817690-bfbe-4110-9717-ae64368fc410",
   "metadata": {},
   "outputs": [],
   "source": [
    "df_oec_mpme.index = pd.DatetimeIndex(df_oec_mpme.data_base)"
   ]
  },
  {
   "cell_type": "code",
   "execution_count": 10,
   "id": "d16c848f-3f48-4126-bb87-8ba058be6509",
   "metadata": {},
   "outputs": [
    {
     "data": {
      "text/html": [
       "<div>\n",
       "<style scoped>\n",
       "    .dataframe tbody tr th:only-of-type {\n",
       "        vertical-align: middle;\n",
       "    }\n",
       "\n",
       "    .dataframe tbody tr th {\n",
       "        vertical-align: top;\n",
       "    }\n",
       "\n",
       "    .dataframe thead th {\n",
       "        text-align: right;\n",
       "    }\n",
       "</style>\n",
       "<table border=\"1\" class=\"dataframe\">\n",
       "  <thead>\n",
       "    <tr style=\"text-align: right;\">\n",
       "      <th></th>\n",
       "      <th>ano</th>\n",
       "      <th>mes</th>\n",
       "      <th>data_base</th>\n",
       "      <th>desembolso</th>\n",
       "      <th>vendas</th>\n",
       "      <th>aprovacao</th>\n",
       "      <th>ind_atv_econ</th>\n",
       "      <th>tx_pre_prazo_medio</th>\n",
       "      <th>A_DI_12</th>\n",
       "      <th>A_DI_24</th>\n",
       "      <th>A_DI_36</th>\n",
       "      <th>A_DI_60</th>\n",
       "      <th>A_DI_120</th>\n",
       "      <th>custo_bndes</th>\n",
       "    </tr>\n",
       "    <tr>\n",
       "      <th>data_base</th>\n",
       "      <th></th>\n",
       "      <th></th>\n",
       "      <th></th>\n",
       "      <th></th>\n",
       "      <th></th>\n",
       "      <th></th>\n",
       "      <th></th>\n",
       "      <th></th>\n",
       "      <th></th>\n",
       "      <th></th>\n",
       "      <th></th>\n",
       "      <th></th>\n",
       "      <th></th>\n",
       "      <th></th>\n",
       "    </tr>\n",
       "  </thead>\n",
       "  <tbody>\n",
       "    <tr>\n",
       "      <th>2009-10-01</th>\n",
       "      <td>2009</td>\n",
       "      <td>10</td>\n",
       "      <td>2009-10-01</td>\n",
       "      <td>1388.5</td>\n",
       "      <td>13123.0</td>\n",
       "      <td>1437.057832</td>\n",
       "      <td>129.74</td>\n",
       "      <td>12.796206</td>\n",
       "      <td>9.969168</td>\n",
       "      <td>11.560462</td>\n",
       "      <td>12.282385</td>\n",
       "      <td>12.869093</td>\n",
       "      <td>13.306142</td>\n",
       "      <td>4.0</td>\n",
       "    </tr>\n",
       "    <tr>\n",
       "      <th>2009-11-01</th>\n",
       "      <td>2009</td>\n",
       "      <td>11</td>\n",
       "      <td>2009-11-01</td>\n",
       "      <td>1339.9</td>\n",
       "      <td>13219.0</td>\n",
       "      <td>1497.107343</td>\n",
       "      <td>130.17</td>\n",
       "      <td>13.062494</td>\n",
       "      <td>9.984419</td>\n",
       "      <td>11.687233</td>\n",
       "      <td>12.488141</td>\n",
       "      <td>13.121518</td>\n",
       "      <td>13.574884</td>\n",
       "      <td>4.0</td>\n",
       "    </tr>\n",
       "    <tr>\n",
       "      <th>2009-12-01</th>\n",
       "      <td>2009</td>\n",
       "      <td>12</td>\n",
       "      <td>2009-12-01</td>\n",
       "      <td>1259.6</td>\n",
       "      <td>15104.0</td>\n",
       "      <td>1580.255803</td>\n",
       "      <td>131.36</td>\n",
       "      <td>13.233439</td>\n",
       "      <td>10.341847</td>\n",
       "      <td>11.944138</td>\n",
       "      <td>12.657941</td>\n",
       "      <td>13.269531</td>\n",
       "      <td>13.789337</td>\n",
       "      <td>4.0</td>\n",
       "    </tr>\n",
       "    <tr>\n",
       "      <th>2010-01-01</th>\n",
       "      <td>2010</td>\n",
       "      <td>1</td>\n",
       "      <td>2010-01-01</td>\n",
       "      <td>1682.7</td>\n",
       "      <td>11569.0</td>\n",
       "      <td>1853.163058</td>\n",
       "      <td>133.46</td>\n",
       "      <td>13.156129</td>\n",
       "      <td>10.452661</td>\n",
       "      <td>11.913480</td>\n",
       "      <td>12.576683</td>\n",
       "      <td>13.181880</td>\n",
       "      <td>13.728600</td>\n",
       "      <td>4.0</td>\n",
       "    </tr>\n",
       "    <tr>\n",
       "      <th>2010-02-01</th>\n",
       "      <td>2010</td>\n",
       "      <td>2</td>\n",
       "      <td>2010-02-01</td>\n",
       "      <td>1160.7</td>\n",
       "      <td>9581.0</td>\n",
       "      <td>1774.880889</td>\n",
       "      <td>135.16</td>\n",
       "      <td>12.657825</td>\n",
       "      <td>10.542231</td>\n",
       "      <td>11.700107</td>\n",
       "      <td>12.198329</td>\n",
       "      <td>12.711503</td>\n",
       "      <td>13.446076</td>\n",
       "      <td>4.0</td>\n",
       "    </tr>\n",
       "  </tbody>\n",
       "</table>\n",
       "</div>"
      ],
      "text/plain": [
       "             ano  mes   data_base  desembolso   vendas    aprovacao  \\\n",
       "data_base                                                             \n",
       "2009-10-01  2009   10  2009-10-01      1388.5  13123.0  1437.057832   \n",
       "2009-11-01  2009   11  2009-11-01      1339.9  13219.0  1497.107343   \n",
       "2009-12-01  2009   12  2009-12-01      1259.6  15104.0  1580.255803   \n",
       "2010-01-01  2010    1  2010-01-01      1682.7  11569.0  1853.163058   \n",
       "2010-02-01  2010    2  2010-02-01      1160.7   9581.0  1774.880889   \n",
       "\n",
       "            ind_atv_econ  tx_pre_prazo_medio    A_DI_12    A_DI_24    A_DI_36  \\\n",
       "data_base                                                                       \n",
       "2009-10-01        129.74           12.796206   9.969168  11.560462  12.282385   \n",
       "2009-11-01        130.17           13.062494   9.984419  11.687233  12.488141   \n",
       "2009-12-01        131.36           13.233439  10.341847  11.944138  12.657941   \n",
       "2010-01-01        133.46           13.156129  10.452661  11.913480  12.576683   \n",
       "2010-02-01        135.16           12.657825  10.542231  11.700107  12.198329   \n",
       "\n",
       "              A_DI_60   A_DI_120  custo_bndes  \n",
       "data_base                                      \n",
       "2009-10-01  12.869093  13.306142          4.0  \n",
       "2009-11-01  13.121518  13.574884          4.0  \n",
       "2009-12-01  13.269531  13.789337          4.0  \n",
       "2010-01-01  13.181880  13.728600          4.0  \n",
       "2010-02-01  12.711503  13.446076          4.0  "
      ]
     },
     "execution_count": 10,
     "metadata": {},
     "output_type": "execute_result"
    }
   ],
   "source": [
    "df_oec_mpme.head()"
   ]
  },
  {
   "cell_type": "code",
   "execution_count": 11,
   "id": "7cad3aa0-41b4-4ad9-ac3b-4a78955be246",
   "metadata": {},
   "outputs": [
    {
     "data": {
      "text/plain": [
       "<AxesSubplot:xlabel='data_base'>"
      ]
     },
     "execution_count": 11,
     "metadata": {},
     "output_type": "execute_result"
    },
    {
     "data": {
      "image/png": "[encoded data removed]",
      "text/plain": [
       "<Figure size 432x288 with 1 Axes>"
      ]
     },
     "metadata": {
      "needs_background": "light"
     },
     "output_type": "display_data"
    }
   ],
   "source": [
    "df_oec_mpme.desembolso.plot()"
   ]
  },
  {
   "cell_type": "markdown",
   "id": "464b89ca-33e5-4ca7-b053-2bada32ca5fe",
   "metadata": {},
   "source": [
    "#### Agrupamento por ano"
   ]
  },
  {
   "cell_type": "code",
   "execution_count": 34,
   "id": "b62a726a-8150-4152-a308-f7f0af7f00f5",
   "metadata": {},
   "outputs": [
    {
     "data": {
      "text/plain": [
       "<AxesSubplot:>"
      ]
     },
     "execution_count": 34,
     "metadata": {},
     "output_type": "execute_result"
    },
    {
     "data": {
      "image/png": "[encoded data removed]",
      "text/plain": [
       "<Figure size 1440x720 with 1 Axes>"
      ]
     },
     "metadata": {
      "needs_background": "light"
     },
     "output_type": "display_data"
    }
   ],
   "source": [
    "#retirando 2009 porque esta incompleto\n",
    "plt.figure(figsize=(20,10))\n",
    "\n",
    "ser_desembolso = df_oec_mpme[(df_oec_mpme.data_base >= '2010-01-01') & (df_oec_mpme.data_base <= '2020-12-01')].desembolso\n",
    "groups = ser_desembolso.groupby(Grouper(freq='A'))\n",
    "years = DataFrame()\n",
    "for name, group in groups:\n",
    "    years[name.year] = group.values\n",
    "years.boxplot()"
   ]
  },
  {
   "cell_type": "markdown",
   "id": "61305b0a-b83e-4615-8788-4cdc77a94326",
   "metadata": {},
   "source": [
    "#### Histogram"
   ]
  },
  {
   "cell_type": "code",
   "execution_count": 21,
   "id": "b3944e1f-5e97-4543-9305-8436675351ee",
   "metadata": {},
   "outputs": [
    {
     "data": {
      "text/plain": [
       "<AxesSubplot:>"
      ]
     },
     "execution_count": 21,
     "metadata": {},
     "output_type": "execute_result"
    },
    {
     "data": {
      "image/png": "[encoded data removed]",
      "text/plain": [
       "<Figure size 432x288 with 1 Axes>"
      ]
     },
     "metadata": {
      "needs_background": "light"
     },
     "output_type": "display_data"
    }
   ],
   "source": [
    "ser_desembolso = df_oec_mpme.desembolso\n",
    "ser_desembolso.hist()"
   ]
  },
  {
   "cell_type": "code",
   "execution_count": 22,
   "id": "5bc0f491-ab7d-4143-9b8b-06570de47f14",
   "metadata": {},
   "outputs": [
    {
     "data": {
      "text/plain": [
       "<AxesSubplot:ylabel='Density'>"
      ]
     },
     "execution_count": 22,
     "metadata": {},
     "output_type": "execute_result"
    },
    {
     "data": {
      "image/png": "[encoded data removed]",
      "text/plain": [
       "<Figure size 432x288 with 1 Axes>"
      ]
     },
     "metadata": {
      "needs_background": "light"
     },
     "output_type": "display_data"
    }
   ],
   "source": [
    "ser_desembolso.plot(kind='kde')"
   ]
  },
  {
   "cell_type": "markdown",
   "id": "ee199414-a50b-47d9-8c84-acb0cdf73aa9",
   "metadata": {},
   "source": [
    "#### Autocorrelation"
   ]
  },
  {
   "cell_type": "code",
   "execution_count": 36,
   "id": "35916d00-5253-4391-a59f-f5880e2e5f38",
   "metadata": {},
   "outputs": [
    {
     "data": {
      "text/plain": [
       "<AxesSubplot:xlabel='Lag', ylabel='Autocorrelation'>"
      ]
     },
     "execution_count": 36,
     "metadata": {},
     "output_type": "execute_result"
    },
    {
     "data": {
      "image/png": "[encoded data removed]",
      "text/plain": [
       "<Figure size 432x288 with 1 Axes>"
      ]
     },
     "metadata": {
      "needs_background": "light"
     },
     "output_type": "display_data"
    }
   ],
   "source": [
    "ser_desembolso = df_oec_mpme.desembolso\n",
    "autocorrelation_plot(ser_desembolso)"
   ]
  },
  {
   "cell_type": "code",
   "execution_count": null,
   "id": "11c59ef0-1ff2-4274-ae85-955e0825e1a8",
   "metadata": {},
   "outputs": [],
   "source": []
  }
 ],
 "metadata": {
  "kernelspec": {
   "display_name": "Python 3 (ipykernel)",
   "language": "python",
   "name": "python3"
  },
  "language_info": {
   "codemirror_mode": {
    "name": "ipython",
    "version": 3
   },
   "file_extension": ".py",
   "mimetype": "text/x-python",
   "name": "python",
   "nbconvert_exporter": "python",
   "pygments_lexer": "ipython3",
   "version": "3.9.7"
  }
 },
 "nbformat": 4,
 "nbformat_minor": 5
}
