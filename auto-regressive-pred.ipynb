{
 "cells": [
  {
   "cell_type": "markdown",
   "id": "5a552192-2ffe-4184-b4e2-32d5845dd4ec",
   "metadata": {},
   "source": [
    "# Previsão como Modelos Autoregressivos Univariate"
   ]
  },
  {
   "cell_type": "markdown",
   "id": "208d542b-080e-4fad-b86e-f070f28a0510",
   "metadata": {},
   "source": [
    "### - ARMA\n",
    "### - ARIMA\n",
    "### - SARIMA\n",
    "### - SARIMAX"
   ]
  },
  {
   "cell_type": "code",
   "execution_count": 12,
   "id": "faaf5525-da3f-4262-b350-8c91ad5dea96",
   "metadata": {},
   "outputs": [],
   "source": [
    "import pandas as pd\n",
    "from pandas import Grouper, DataFrame\n",
    "\n",
    "from typing import Tuple, List, Callable, Dict\n",
    "\n",
    "import numpy as np\n",
    "import os\n",
    "from datetime import datetime\n",
    "import random\n",
    "\n",
    "from matplotlib import pyplot as plt\n",
    "import seaborn as sns\n",
    "\n",
    "import inspect\n",
    "import warnings\n",
    "\n",
    "from sklearn.metrics import mean_absolute_error, mean_squared_error, r2_score\n",
    "\n",
    "from statsmodels.tsa.arima.model import ARIMA\n",
    "import statsmodels.api as sm"
   ]
  },
  {
   "cell_type": "markdown",
   "id": "7be0f7d2-099d-4932-bde5-91a71812fbef",
   "metadata": {
    "tags": []
   },
   "source": [
    "## Constantes"
   ]
  },
  {
   "cell_type": "code",
   "execution_count": 3,
   "id": "94e54ef1-73b9-4462-b979-1b7defec30c2",
   "metadata": {},
   "outputs": [],
   "source": [
    "DIR_DATASET: str = os.path.join('datasets', 'dados-gerados')\n",
    "\n",
    "DATASET_OEC_MPME = os.path.join(DIR_DATASET,  'oec_mpme.csv')\n",
    "\n",
    "DAT_CORRENTE = datetime.today().strftime(\"%Y-%m-%d\")\n",
    "\n",
    "TEST_SPLIT_SIZE = 10\n",
    "\n",
    "MEAN_SQUARED_METRIC = \"mean_squeared\"\n",
    "MEAN_ABSOLUTE_METRIC = \"mean_absolute\"\n",
    "R2_METRIC = \"r2\""
   ]
  },
  {
   "cell_type": "markdown",
   "id": "8864828a-09fd-4412-8eb1-6619846bedfd",
   "metadata": {},
   "source": [
    "## Funções"
   ]
  },
  {
   "cell_type": "code",
   "execution_count": 4,
   "id": "c47c12ed-0691-49d3-a657-a26ef094fbd2",
   "metadata": {},
   "outputs": [],
   "source": [
    "#Separa os dados em treino, teste (resultdado) para modelos autoregressivos. Não existe o conceito de janela que será utilizado \n",
    "# nos modelos de suavização e Redes Neurais\n",
    "def split_train_test_window_dataset(full_dataset: np.ndarray, test_percentual_size: int) -> Tuple[np.ndarray, np.ndarray, np.ndarray]:\n",
    "    dataset_size: int = full_dataset.shape[0]\n",
    "    cut_pos: int = round(dataset_size - (dataset_size * (test_percentual_size /100)))\n",
    "    test_dataset_size: int = dataset_size - cut_pos\n",
    "    \n",
    "    X_test: np.ndarray = full_dataset[0 : cut_pos]\n",
    "    y_test: np.ndarray = full_dataset[cut_pos:]\n",
    "    \n",
    "    #train_dataset_list = [full_dataset[0 : ind] for ind in range (cut_pos)]\n",
    "    #X_train = np.array(train_dataset_list)\n",
    "    \n",
    "    test_dataset_list = [full_dataset[0:cut_pos + ind] for ind in range (test_dataset_size)]\n",
    "    y_train = np.array(test_dataset_list)\n",
    "    \n",
    "    return X_test, y_train, y_test"
   ]
  },
  {
   "cell_type": "code",
   "execution_count": 5,
   "id": "53371b06-c8dd-40a3-bea9-7760a0bbf8b6",
   "metadata": {},
   "outputs": [
    {
     "ename": "SyntaxError",
     "evalue": "invalid syntax (Temp/ipykernel_4372/1741656846.py, line 2)",
     "output_type": "error",
     "traceback": [
      "\u001b[1;36m  File \u001b[1;32m\"C:\\Users\\gdutr\\AppData\\Local\\Temp/ipykernel_4372/1741656846.py\"\u001b[1;36m, line \u001b[1;32m2\u001b[0m\n\u001b[1;33m    get grid_search_arima(y_train: np.ndarray, y_true: np.ndarray,\u001b[0m\n\u001b[1;37m        ^\u001b[0m\n\u001b[1;31mSyntaxError\u001b[0m\u001b[1;31m:\u001b[0m invalid syntax\n"
     ]
    }
   ],
   "source": [
    "# returns best score e a melhor ordem\n",
    "get grid_search_arima(y_train: np.ndarray, y_true: np.ndarray, \n",
    "                      min_p: int=1, max_p: int=6, \n",
    "                      min_i: int=0, max_i: int=3, \n",
    "                      min_q: int=1, max_q: int = 3) -> Tuple[float, Tuple[int,int,int]]:\n",
    "    "
   ]
  },
  {
   "cell_type": "markdown",
   "id": "db2f2ff4-c439-4cdc-9eaa-41b637e8a607",
   "metadata": {},
   "source": [
    "## Carrega Datasets"
   ]
  },
  {
   "cell_type": "code",
   "execution_count": 6,
   "id": "c9f5070b-95ff-4b15-976d-7723dbe9e590",
   "metadata": {},
   "outputs": [],
   "source": [
    "df_oec_mpme = pd.read_csv(DATASET_OEC_MPME, sep=';', decimal=',', parse_dates=True)\n",
    "df_oec_mpme.index = pd.DatetimeIndex(df_oec_mpme.data_base)\n",
    "df_oec_mpme[\"ano_mes\"] = pd.DatetimeIndex(df_oec_mpme.data_base).strftime('%Y-%m')\n",
    "df_oec_mpme_desembolso = df_oec_mpme[['desembolso','ano','mes', 'ano_mes']]\n",
    "\n",
    "desembolso = df_oec_mpme_desembolso[[\"desembolso\"]].to_numpy().squeeze()\n",
    "desembolso_time = df_oec_mpme_desembolso[[\"ano_mes\"]].to_numpy().squeeze()"
   ]
  },
  {
   "cell_type": "markdown",
   "id": "8f69ec7d-9122-4093-94ab-96ae8d387a0b",
   "metadata": {},
   "source": [
    "---\n",
    "## ARIMA"
   ]
  },
  {
   "cell_type": "code",
   "execution_count": 5,
   "id": "f270f3e4-2b83-4299-842e-dc31d3c87c46",
   "metadata": {},
   "outputs": [
    {
     "name": "stderr",
     "output_type": "stream",
     "text": [
      "C:\\Users\\gdutr\\AppData\\Local\\Temp/ipykernel_10872/1425785119.py:15: VisibleDeprecationWarning: Creating an ndarray from ragged nested sequences (which is a list-or-tuple of lists-or-tuples-or ndarrays with different lengths or shapes) is deprecated. If you meant to do this, you must specify 'dtype=object' when creating the ndarray.\n",
      "  y_train = np.array(test_dataset_list)\n"
     ]
    }
   ],
   "source": [
    "X_test, y_train, y_true = split_train_test_window_dataset(desembolso, TEST_SPLIT_SIZE)"
   ]
  },
  {
   "cell_type": "code",
   "execution_count": null,
   "id": "cdaaeb8c-5d08-4591-a424-559a14a9bcd7",
   "metadata": {},
   "outputs": [
    {
     "name": "stdout",
     "output_type": "stream",
     "text": [
      "error order(0,1,573643492178354 com order(0,0,5) - Best 0.0206734885211719 com order((0, 1, 1)))))\n",
      "error order(0,0,7366537831469381 com order(0,2,6) - Best 0.0206734885211719 com order((0, 1, 1))))\n",
      "error order(0,1,791316123.04669 com order(0,0,7) - Best 0.0206734885211719 com order((0, 1, 1))\n",
      "error order(0,2,791530336.7366 com order(0,1,7) - Best 0.0206734885211719 com order((0, 1, 1))\n",
      "Não melhorou -3.123071361228666 com order(0,0,8) - Best 0.0206734885211719 com order((0, 1, 1))\r"
     ]
    }
   ],
   "source": [
    "# Melhor ordem (0,2,11)\n",
    "%%time\n",
    "best_score = -1000000\n",
    "best_order: Tuple[int,int,int] = (0,0,0)\n",
    "with warnings.catch_warnings():\n",
    "    warnings.simplefilter('ignore')\n",
    "    for p_range in range(6):  # order for autoregressive\n",
    "        for q_range in range(15): # order for moving average\n",
    "            for i_range in range(3): # order for difference\n",
    "                prediction_list = []\n",
    "                for step in range(len(y_train)):\n",
    "                    try:\n",
    "                        mod = ARIMA(y_train[step], order=(p_range,i_range,q_range))\n",
    "                        res = mod.fit()\n",
    "                        prediction_list.append(res.forecast(steps=1))\n",
    "                    except:\n",
    "                        print(f'error order({p_range},{i_range},{q_range}')\n",
    "                        prediction_list.append(-99999999)\n",
    "                \n",
    "                prediction: np.ndarray = np.array(prediction_list)\n",
    "                score = r2_score(y_true, prediction)\n",
    "                if score > best_score:\n",
    "                    best_score = score\n",
    "                    best_order = (p_range,i_range,q_range)\n",
    "                    best_prediction = prediction\n",
    "                    print(f'Best {best_score} com order({best_order})', end = \"\\r\")\n",
    "                else:\n",
    "                    print(f'Não melhorou {score} com order({p_range},{i_range},{q_range}) - Best {best_score} com order({best_order})', end = \"\\r\")"
   ]
  },
  {
   "cell_type": "code",
   "execution_count": 10,
   "id": "49884bb6-8d0a-4264-a570-7af168486ddc",
   "metadata": {},
   "outputs": [
    {
     "name": "stdout",
     "output_type": "stream",
     "text": [
      "Melhor score 0.2699050927764277 com ordem (0, 2, 11)\n"
     ]
    }
   ],
   "source": [
    "print(f'Melhor score {best_score} com ordem {best_order}')"
   ]
  },
  {
   "cell_type": "code",
   "execution_count": 6,
   "id": "9f8c0a36-fe98-4288-9675-8714904dd433",
   "metadata": {},
   "outputs": [],
   "source": [
    "best_order = (0,2,11)\n",
    "with warnings.catch_warnings():\n",
    "    warnings.simplefilter('ignore')\n",
    "    prediction_list = []\n",
    "    for step in range(len(y_train)):\n",
    "        mod = ARIMA(y_train[step], order=best_order)\n",
    "        res = mod.fit()\n",
    "        prediction_list.append(res.forecast(steps=1))\n",
    "    arima_prediction = np.array(prediction_list)  \n"
   ]
  },
  {
   "cell_type": "code",
   "execution_count": 7,
   "id": "50b2f9ae-c9dd-4363-8ddb-344dcca99c34",
   "metadata": {},
   "outputs": [
    {
     "data": {
      "image/png": "[encoded data removed]",
      "text/plain": [
       "<Figure size 1440x432 with 1 Axes>"
      ]
     },
     "metadata": {
      "needs_background": "light"
     },
     "output_type": "display_data"
    }
   ],
   "source": [
    "plt.figure(figsize=(20,6))\n",
    "plt.xticks(rotation='vertical')\n",
    "plt.gca().xaxis.set_major_locator(plt.MultipleLocator(2))\n",
    "plt.plot(desembolso_time[:len(X_test)], X_test, 'b--', label=\"train\")\n",
    "plt.plot(desembolso_time[-len(y_true):], y_true, color='orange', linestyle=\"--\", label=\"test\")\n",
    "plt.plot(desembolso_time[-len(arima_prediction):], arima_prediction, 'r--', label=\"predictions\")\n",
    "plt.legend(loc='upper left')\n",
    "plt.title(f\"Arima parametros({best_order})\")\n",
    "plt.grid(alpha=0.3);"
   ]
  },
  {
   "cell_type": "code",
   "execution_count": 8,
   "id": "cbc6ed59-8f50-4574-9929-651d53216c01",
   "metadata": {},
   "outputs": [
    {
     "name": "stdout",
     "output_type": "stream",
     "text": [
      "Mean Squared Error: 5857.794370726033 \n",
      "Mean Absolute Error: 64.05459963019605\n",
      "R2 Score: 0.2699050927764277\n"
     ]
    }
   ],
   "source": [
    "arima_mse = mean_squared_error(y_true, arima_prediction, squared=True)\n",
    "arima_mae = mean_absolute_error(y_true, arima_prediction)\n",
    "arima_r2 = r2_score(y_true, arima_prediction)\n",
    "print(f'Mean Squared Error: {arima_mse} ')\n",
    "print(f'Mean Absolute Error: {arima_mae}')\n",
    "print(f'R2 Score: {arima_r2}')"
   ]
  },
  {
   "cell_type": "markdown",
   "id": "f6893603-f3b4-4d42-8509-0be483511729",
   "metadata": {},
   "source": [
    "\n",
    "---\n",
    "## SARIMA\n"
   ]
  },
  {
   "cell_type": "code",
   "execution_count": 7,
   "id": "d07a406b-995e-4e1d-b84e-82f030929dfb",
   "metadata": {},
   "outputs": [
    {
     "name": "stderr",
     "output_type": "stream",
     "text": [
      "C:\\Users\\gdutr\\AppData\\Local\\Temp/ipykernel_4372/1425785119.py:15: VisibleDeprecationWarning: Creating an ndarray from ragged nested sequences (which is a list-or-tuple of lists-or-tuples-or ndarrays with different lengths or shapes) is deprecated. If you meant to do this, you must specify 'dtype=object' when creating the ndarray.\n",
      "  y_train = np.array(test_dataset_list)\n"
     ]
    }
   ],
   "source": [
    "X_test, y_train, y_true = split_train_test_window_dataset(desembolso, TEST_SPLIT_SIZE)"
   ]
  },
  {
   "cell_type": "code",
   "execution_count": null,
   "id": "811fc7d9-c88d-4f4b-83b7-c8f6136e6446",
   "metadata": {},
   "outputs": [
    {
     "name": "stdout",
     "output_type": "stream",
     "text": [
      "Wall time: 0 ns\n",
      "Não melhorou -0.1252390300749162 com o=(0,1,7) so=(0,0,0) - Best 0.11272271338481332 com o=(0,1,7) so=(0,0,0)))\r"
     ]
    }
   ],
   "source": [
    "# Melhor ordem (0,2,11)\n",
    "%time\n",
    "best_score = -1000000\n",
    "best_order: Tuple[int,int,int] = (0,0,0)\n",
    "best_seasonal_order: Tuple[int,int,int] = (0,0,0)\n",
    "with warnings.catch_warnings():\n",
    "    warnings.simplefilter('ignore')\n",
    "    for p in range(2):  # order for autoregressive\n",
    "        for q in range(12): # order for moving average\n",
    "            for i in range(2): # order for difference\n",
    "                for P in range(2): #order for seasonal AR\n",
    "                    for Q in range(2): #order for seasonal moving Average\n",
    "                        for D in range(2): #order for seasonal Difference\n",
    "                            prediction_list = []\n",
    "                            for step in range(len(y_train)):\n",
    "                                \n",
    "                                mod = sm.tsa.statespace.SARIMAX(y_train[step], order=(p,i,q), seasonal_order=(P,D,Q,12))\n",
    "                                res = mod.fit(disp=False)\n",
    "                                prediction_list.append(res.forecast(steps=1))\n",
    "                                #except:\n",
    "                                 #   print(f'error order({p},{i},{q}) | Sorder({P},{D},{Q})')\n",
    "                                 #   prediction_list.append(-99999999)\n",
    "\n",
    "                            prediction: np.ndarray = np.array(prediction_list)\n",
    "                            score = r2_score(y_true, prediction)\n",
    "                            if score > best_score:\n",
    "                                best_score = score\n",
    "                                best_order = (p,i,q)\n",
    "                                best_seasonal_order = (P,D,Q)\n",
    "                                best_prediction = prediction\n",
    "                                print(f'Best {best_score} com order({best_order}) e seasonal order({best_seasonal_order})', end = \"\\r\")\n",
    "                            else:\n",
    "                                print(f'Não melhorou {score} com o=({p},{i},{q}) so=({P},{D},{Q}) - Best {best_score} com o=({p},{i},{q}) so=({P},{D},{Q})', end = \"\\r\")"
   ]
  },
  {
   "cell_type": "code",
   "execution_count": null,
   "id": "9f2935a1-0916-4abe-8eda-43d80b7bc84d",
   "metadata": {},
   "outputs": [],
   "source": []
  },
  {
   "cell_type": "code",
   "execution_count": null,
   "id": "1d9c6edd-bb4f-4e8b-a51d-001506f65492",
   "metadata": {},
   "outputs": [],
   "source": []
  },
  {
   "cell_type": "code",
   "execution_count": null,
   "id": "0986a449-e11a-4e3e-8d14-b15d084e9f77",
   "metadata": {},
   "outputs": [],
   "source": [
    "%%time"
   ]
  }
 ],
 "metadata": {
  "kernelspec": {
   "display_name": "Python 3 (ipykernel)",
   "language": "python",
   "name": "python3"
  },
  "language_info": {
   "codemirror_mode": {
    "name": "ipython",
    "version": 3
   },
   "file_extension": ".py",
   "mimetype": "text/x-python",
   "name": "python",
   "nbconvert_exporter": "python",
   "pygments_lexer": "ipython3",
   "version": "3.9.7"
  }
 },
 "nbformat": 4,
 "nbformat_minor": 5
}
