{
 "cells": [
  {
   "cell_type": "markdown",
   "id": "5a552192-2ffe-4184-b4e2-32d5845dd4ec",
   "metadata": {},
   "source": [
    "# Previsão como Modelos Autoregressivos Univariados"
   ]
  },
  {
   "cell_type": "markdown",
   "id": "208d542b-080e-4fad-b86e-f070f28a0510",
   "metadata": {},
   "source": [
    "### - ARMA\n",
    "### - ARIMA\n",
    "### - SARIMA\n",
    "### - SARIMAX"
   ]
  },
  {
   "cell_type": "code",
   "execution_count": 1,
   "id": "faaf5525-da3f-4262-b350-8c91ad5dea96",
   "metadata": {},
   "outputs": [],
   "source": [
    "import pandas as pd\n",
    "from pandas import Grouper, DataFrame\n",
    "\n",
    "from typing import Tuple, List, Callable, Dict\n",
    "\n",
    "import numpy as np\n",
    "import os\n",
    "from datetime import datetime\n",
    "import random\n",
    "import time\n",
    "\n",
    "from matplotlib import pyplot as plt\n",
    "import seaborn as sns\n",
    "\n",
    "import inspect\n",
    "import warnings\n",
    "\n",
    "from sklearn.metrics import mean_absolute_error, mean_squared_error, r2_score\n",
    "\n",
    "from statsmodels.tsa.arima.model import ARIMA\n",
    "import statsmodels.api as sm"
   ]
  },
  {
   "cell_type": "markdown",
   "id": "7be0f7d2-099d-4932-bde5-91a71812fbef",
   "metadata": {
    "tags": []
   },
   "source": [
    "## Constantes"
   ]
  },
  {
   "cell_type": "code",
   "execution_count": 2,
   "id": "94e54ef1-73b9-4462-b979-1b7defec30c2",
   "metadata": {},
   "outputs": [],
   "source": [
    "DIR_DATASET: str = os.path.join('datasets', 'dados-gerados')\n",
    "\n",
    "DATASET_OEC_MPME = os.path.join(DIR_DATASET,  'oec_mpme.csv')\n",
    "\n",
    "DAT_CORRENTE = datetime.today().strftime(\"%Y-%m-%d\")\n",
    "\n",
    "TEST_SPLIT_SIZE = 10\n",
    "\n",
    "MEAN_SQUARED_METRIC = \"mean_squeared\"\n",
    "MEAN_ABSOLUTE_METRIC = \"mean_absolute\"\n",
    "R2_METRIC = \"r2\""
   ]
  },
  {
   "cell_type": "markdown",
   "id": "8864828a-09fd-4412-8eb1-6619846bedfd",
   "metadata": {},
   "source": [
    "## Funções"
   ]
  },
  {
   "cell_type": "code",
   "execution_count": 7,
   "id": "c47c12ed-0691-49d3-a657-a26ef094fbd2",
   "metadata": {
    "tags": []
   },
   "outputs": [],
   "source": [
    "def split_train_test_window_dataset(full_dataset: np.ndarray, test_percentual_size: int) -> Tuple[np.ndarray, np.ndarray, np.ndarray]:\n",
    "    \"\"\"\n",
    "        Separa os dados em treino, teste para modelos autoregressivos. \n",
    "        Não existe o conceito de janela que será utilizado nos modelos de suavização e Redes Neurais\n",
    "        \n",
    "        Args:\n",
    "            full_dataset (ndarray): datafame contendo a série de desembolso\n",
    "            test_percentual_size (int): percentual de dados para teste\n",
    "            \n",
    "        Returns:\n",
    "            1) y_train - Label para treino, será descartado para modelos autoregressivos.\n",
    "            2) X_test - Feature, desembolsos anteriores ao previsto. Cada item dessa array contém todos os desembolsos anteriores ao que será previsto. O desembolso real estará no terceiro valor retornado.\n",
    "            3) y_test - Label da base de teste, será utilizado para avaliação da previsão\n",
    "    \"\"\"\n",
    "    \n",
    "    dataset_size: int = full_dataset.shape[0]\n",
    "    cut_pos: int = round(dataset_size - (dataset_size * (test_percentual_size /100)))\n",
    "    test_dataset_size: int = dataset_size - cut_pos\n",
    "    \n",
    "    y_train: np.ndarray = full_dataset[0 : cut_pos]\n",
    "    y_test: np.ndarray = full_dataset[cut_pos:]\n",
    "    \n",
    "    #train_dataset_list = [full_dataset[0 : ind] for ind in range (cut_pos)]\n",
    "    #X_train = np.array(train_dataset_list)\n",
    "    \n",
    "    X_test_list = [full_dataset[0:cut_pos + ind] for ind in range (test_dataset_size)]\n",
    "    X_test = np.array(X_test_list)\n",
    "    \n",
    "    return y_train, X_test, y_test"
   ]
  },
  {
   "cell_type": "code",
   "execution_count": 8,
   "id": "1715d820-45ea-41bc-ae9c-6fa4ffdbc2d9",
   "metadata": {},
   "outputs": [],
   "source": [
    "#Separa os dados em treino, teste (resultdado) para modelos autoregressivos. Não existe o conceito de janela que será utilizado \n",
    "# nos modelos de suavização e Redes Neurais\n",
    "def split_train_test_multivariate_window_dataset(data_frame: pd.DataFrame, \n",
    "                                                 feature_columns: List[str], \n",
    "                                                 pred_column: str,\n",
    "                                                 test_percentual_size: int) -> Tuple[np.ndarray, np.ndarray, np.ndarray]:\n",
    "    dataset_size: int = len(data_frame)\n",
    "    cut_pos: int = round(dataset_size - (dataset_size * (test_percentual_size /100)))\n",
    "    test_dataset_size: int = dataset_size - cut_pos\n",
    "    \n",
    "    X_test: np.ndarray = data_frame[[pred_column]][0 : cut_pos].to_numpy().squeeze()\n",
    "    y_test: np.ndarray = data_frame[[pred_column]][cut_pos:].to_numpy().squeeze()\n",
    "    \n",
    "    #train_dataset_list = [full_dataset[0 : ind] for ind in range (cut_pos)]\n",
    "    #X_train = np.array(train_dataset_list)\n",
    "\n",
    "    full_dataset_endogeno: np.ndarray = data_frame[[pred_column]].to_numpy().squeeze()\n",
    "    full_dataset_exogeno: np.ndarray = data_frame[feature_columns].to_numpy().squeeze()\n",
    "    \n",
    "    test_endogeno_dataset_list = [full_dataset_endogeno[0:cut_pos + ind] for ind in range (test_dataset_size)]\n",
    "    y_train_endogeno = np.array(test_endogeno_dataset_list)\n",
    "    \n",
    "    test_exogeno_dataset_list = [full_dataset_exogeno[0:cut_pos + ind] for ind in range (test_dataset_size)]\n",
    "    y_train_exogeno = np.array(test_exogeno_dataset_list)\n",
    "        \n",
    "    return X_test, y_train_endogeno, y_train_exogeno, y_test"
   ]
  },
  {
   "cell_type": "markdown",
   "id": "db2f2ff4-c439-4cdc-9eaa-41b637e8a607",
   "metadata": {},
   "source": [
    "## Carrega Datasets"
   ]
  },
  {
   "cell_type": "code",
   "execution_count": 9,
   "id": "c9f5070b-95ff-4b15-976d-7723dbe9e590",
   "metadata": {},
   "outputs": [],
   "source": [
    "df_oec_mpme = pd.read_csv(DATASET_OEC_MPME, sep=';', decimal=',', parse_dates=True)\n",
    "df_oec_mpme.index = pd.DatetimeIndex(df_oec_mpme.data_base)\n",
    "df_oec_mpme[\"ano_mes\"] = pd.DatetimeIndex(df_oec_mpme.data_base).strftime('%Y-%m')\n",
    "df_oec_mpme_desembolso = df_oec_mpme[['desembolso','ano','mes', 'ano_mes']]\n",
    "\n",
    "desembolso = df_oec_mpme_desembolso[[\"desembolso\"]].to_numpy().squeeze()\n",
    "desembolso_time = df_oec_mpme_desembolso[[\"ano_mes\"]].to_numpy().squeeze()"
   ]
  },
  {
   "cell_type": "markdown",
   "id": "8f69ec7d-9122-4093-94ab-96ae8d387a0b",
   "metadata": {
    "tags": []
   },
   "source": [
    "---\n",
    "## ARIMA - Auto Regressivo, Diferença e Média Móvel\n",
    "Modelo ARIMA utiliza o conceito de janela, cada dataset de treino contém uma janela com dados anteriores para previsão"
   ]
  },
  {
   "cell_type": "code",
   "execution_count": 10,
   "id": "f270f3e4-2b83-4299-842e-dc31d3c87c46",
   "metadata": {},
   "outputs": [
    {
     "name": "stderr",
     "output_type": "stream",
     "text": [
      "C:\\Users\\gdutr\\AppData\\Local\\Temp/ipykernel_13856/222814096.py:27: VisibleDeprecationWarning: Creating an ndarray from ragged nested sequences (which is a list-or-tuple of lists-or-tuples-or ndarrays with different lengths or shapes) is deprecated. If you meant to do this, you must specify 'dtype=object' when creating the ndarray.\n",
      "  X_test = np.array(X_test_list)\n"
     ]
    }
   ],
   "source": [
    "y_train, X_test, y_true = split_train_test_window_dataset(desembolso, TEST_SPLIT_SIZE)"
   ]
  },
  {
   "cell_type": "code",
   "execution_count": 11,
   "id": "cdaaeb8c-5d08-4591-a424-559a14a9bcd7",
   "metadata": {
    "tags": []
   },
   "outputs": [],
   "source": [
    "\n",
    "def grid_search_arima(observations: np.ndarray, y_true: np.ndarray) -> Tuple[float, Tuple[int,int,int]]:\n",
    "    \"\"\"\n",
    "        Busca a melhor configuração de p (ordem autoregressiva), i (ordem da diferença), q (ordem da média móvel)\n",
    "        \n",
    "        Args:\n",
    "            observations (ndarray): features para previsão, ou seja, os desembolsos anteriores ao que será previsto.\n",
    "            y_true (ndarray): labels, o desembolso que deve ser confrontado com a previsao\n",
    "    \"\"\"\n",
    "    \n",
    "    best_score:float = -1000000\n",
    "    best_order: Tuple[int,int,int] = (0,0,0)\n",
    "    with warnings.catch_warnings():\n",
    "        warnings.simplefilter('ignore')\n",
    "        for p_range in range(2):  # order for autoregressive\n",
    "            for q_range in range(15): # order for moving average\n",
    "                for i_range in range(3): # order for difference\n",
    "                    prediction_list = []\n",
    "                    for step in range(len(observations)):\n",
    "                        try:\n",
    "                            mod = ARIMA(observations[step], order=(p_range,i_range,q_range))\n",
    "                            res = mod.fit()\n",
    "                            prediction_list.append(res.forecast(steps=1))\n",
    "                        except:\n",
    "                            print(f'error order({p_range},{i_range},{q_range}')\n",
    "                            prediction_list.append(-99999999)\n",
    "\n",
    "                    prediction: np.ndarray = np.array(prediction_list)\n",
    "                    score = r2_score(y_true, prediction)\n",
    "                    if score > best_score:\n",
    "                        best_score = score\n",
    "                        best_order = (p_range,i_range,q_range)\n",
    "                        best_prediction = prediction\n",
    "                        print(f'Best {best_score} com order({best_order})', end = \"\\r\")\n",
    "                    else:\n",
    "                        print(f'Não melhorou {score} com order({p_range},{i_range},{q_range}) - Best {best_score} com order({best_order})', end = \"\\r\")\n",
    "                        \n",
    "        return best_score, best_order"
   ]
  },
  {
   "cell_type": "code",
   "execution_count": 12,
   "id": "49884bb6-8d0a-4264-a570-7af168486ddc",
   "metadata": {},
   "outputs": [
    {
     "name": "stdout",
     "output_type": "stream",
     "text": [
      "Wall time: 7min 22s8061934169345 com order(1,2,14) - Best 0.2699050927764277 com order((0, 2, 11))))\n",
      "\n",
      "----------------------------------------------------------------------------------------------\n",
      "Melhor score 0.2699050927764277 com ordem (0, 2, 11)\n"
     ]
    }
   ],
   "source": [
    "%time (best_score_arima, best_order_arima) = grid_search_arima(X_test, y_true)\n",
    "print('\\n----------------------------------------------------------------------------------------------')\n",
    "print(f'Melhor score {best_score_arima} com ordem {best_order_arima}')"
   ]
  },
  {
   "cell_type": "code",
   "execution_count": 6,
   "id": "9f8c0a36-fe98-4288-9675-8714904dd433",
   "metadata": {},
   "outputs": [],
   "source": [
    "#best_order = (0,2,11)\n",
    "with warnings.catch_warnings():\n",
    "    warnings.simplefilter('ignore')\n",
    "    prediction_list = []\n",
    "    for step in range(len(y_train)):\n",
    "        mod = ARIMA(y_train[step], order=best_order)\n",
    "        res = mod.fit()\n",
    "        prediction_list.append(res.forecast(steps=1))\n",
    "    arima_prediction = np.array(prediction_list)  \n"
   ]
  },
  {
   "cell_type": "code",
   "execution_count": 7,
   "id": "50b2f9ae-c9dd-4363-8ddb-344dcca99c34",
   "metadata": {
    "tags": []
   },
   "outputs": [
    {
     "data": {
      "image/png": "[encoded data removed]",
      "text/plain": [
       "<Figure size 1440x432 with 1 Axes>"
      ]
     },
     "metadata": {
      "needs_background": "light"
     },
     "output_type": "display_data"
    }
   ],
   "source": [
    "plt.figure(figsize=(20,6))\n",
    "plt.xticks(rotation='vertical')\n",
    "plt.gca().xaxis.set_major_locator(plt.MultipleLocator(2))\n",
    "plt.plot(desembolso_time[:len(X_test)], X_test, 'b--', label=\"train\")\n",
    "plt.plot(desembolso_time[-len(y_true):], y_true, color='orange', linestyle=\"--\", label=\"test\")\n",
    "plt.plot(desembolso_time[-len(arima_prediction):], arima_prediction, 'r--', label=\"predictions\")\n",
    "plt.legend(loc='upper left')\n",
    "plt.title(f\"Arima parametros({best_order})\")\n",
    "plt.grid(alpha=0.3);"
   ]
  },
  {
   "cell_type": "code",
   "execution_count": 8,
   "id": "cbc6ed59-8f50-4574-9929-651d53216c01",
   "metadata": {},
   "outputs": [
    {
     "name": "stdout",
     "output_type": "stream",
     "text": [
      "Mean Squared Error: 5857.794370726033 \n",
      "Mean Absolute Error: 64.05459963019605\n",
      "R2 Score: 0.2699050927764277\n"
     ]
    }
   ],
   "source": [
    "arima_mse = mean_squared_error(y_true, arima_prediction, squared=True)\n",
    "arima_mae = mean_absolute_error(y_true, arima_prediction)\n",
    "arima_r2 = r2_score(y_true, arima_prediction)\n",
    "print(f'Mean Squared Error: {arima_mse} ')\n",
    "print(f'Mean Absolute Error: {arima_mae}')\n",
    "print(f'R2 Score: {arima_r2}')"
   ]
  },
  {
   "cell_type": "markdown",
   "id": "f6893603-f3b4-4d42-8509-0be483511729",
   "metadata": {
    "tags": []
   },
   "source": [
    "\n",
    "---\n",
    "## SARIMA - Inclusão de Sazonalidade\n"
   ]
  },
  {
   "cell_type": "code",
   "execution_count": 6,
   "id": "d07a406b-995e-4e1d-b84e-82f030929dfb",
   "metadata": {},
   "outputs": [
    {
     "name": "stderr",
     "output_type": "stream",
     "text": [
      "C:\\Users\\gdutr\\AppData\\Local\\Temp/ipykernel_800/1425785119.py:15: VisibleDeprecationWarning: Creating an ndarray from ragged nested sequences (which is a list-or-tuple of lists-or-tuples-or ndarrays with different lengths or shapes) is deprecated. If you meant to do this, you must specify 'dtype=object' when creating the ndarray.\n",
      "  y_train = np.array(test_dataset_list)\n"
     ]
    }
   ],
   "source": [
    "y_train, X_test, y_true = split_train_test_window_dataset(desembolso, TEST_SPLIT_SIZE)"
   ]
  },
  {
   "cell_type": "code",
   "execution_count": 7,
   "id": "811fc7d9-c88d-4f4b-83b7-c8f6136e6446",
   "metadata": {},
   "outputs": [],
   "source": [
    "def grid_search_sarima(observations: np.ndarray, y_true: np.ndarray) -> Tuple[float, Tuple[int,int,int], Tuple[int,int,int]]:\n",
    "    best_score = -1000000\n",
    "    best_order: Tuple[int,int,int] = (0,0,0)\n",
    "    best_seasonal_order: Tuple[int,int,int] = (0,0,0)\n",
    "    with warnings.catch_warnings():\n",
    "        warnings.simplefilter('ignore')\n",
    "        for p in range(2):  # order for autoregressive\n",
    "            for q in range(12): # order for moving average\n",
    "                for i in range(2): # order for difference\n",
    "                    for P in range(2): #order for seasonal AR\n",
    "                        for Q in range(2): #order for seasonal moving Average\n",
    "                            for D in range(2): #order for seasonal Difference\n",
    "                                prediction_list = []\n",
    "                                start_time = time.time()\n",
    "                                for step in range(len(observations)):\n",
    "\n",
    "                                    mod = sm.tsa.statespace.SARIMAX(observations[step], order=(p,i,q), seasonal_order=(P,D,Q,12))\n",
    "                                    res = mod.fit(disp=False)\n",
    "                                    prediction_list.append(res.forecast(steps=1))\n",
    "                                    #except:\n",
    "                                     #   print(f'error order({p},{i},{q}) | Sorder({P},{D},{Q})')\n",
    "                                     #   prediction_list.append(-99999999)\n",
    "\n",
    "                                prediction: np.ndarray = np.array(prediction_list)\n",
    "                                score = r2_score(y_true, prediction)\n",
    "                                if score > best_score:\n",
    "                                    best_score = score\n",
    "                                    best_order = (p,i,q)\n",
    "                                    best_seasonal_order = (P,D,Q)\n",
    "                                    best_prediction = prediction\n",
    "                                    print(f'Best {best_score} com order({best_order}) e seasonal order({best_seasonal_order}). Tempo de execução {time.time() - start_time} segundos', end = \"\\r\")\n",
    "                                else:\n",
    "                                    print(f'Não melhorou {score} com o=({p},{i},{q}) so=({P},{D},{Q}) - Best {best_score} com o=({best_order}) so=({best_seasonal_order}). Tempo de execução {time.time() - start_time} segundos', end = \"\\r\")\n",
    "    return best_score, best_order, best_seasonal_order"
   ]
  },
  {
   "cell_type": "code",
   "execution_count": 8,
   "id": "d223f9b5-21b9-4de2-be08-cc14e0a1bdbe",
   "metadata": {},
   "outputs": [
    {
     "name": "stdout",
     "output_type": "stream",
     "text": [
      "Wall time: 59min 47s77903321577 com o=(1,1,11) so=(1,1,1) - Best 0.11272271338481332 com o=((0, 0, 1)) so=((1, 0, 1)). Tempo de execução 41.11526131629944 segundosssss\n",
      "\n",
      "----------------------------------------------------------------------------------------------\n",
      "Melhor score 0.11272271338481332 com ordem (0, 0, 1) e melhor ordem sazonal (1, 0, 1)\n"
     ]
    }
   ],
   "source": [
    "%time (best_score_sarima, best_order_sarima, best_seasonal_order_sarima) = grid_search_sarima(X_test, y_true)\n",
    "print('\\n----------------------------------------------------------------------------------------------')\n",
    "print(f'Melhor score {best_score_sarima} com ordem {best_order_sarima} e melhor ordem sazonal {best_seasonal_order_sarima}')"
   ]
  },
  {
   "cell_type": "code",
   "execution_count": 11,
   "id": "1a891125-09f3-4f69-b906-2598b3f2b612",
   "metadata": {},
   "outputs": [
    {
     "name": "stdout",
     "output_type": "stream",
     "text": [
      "Tempo de execução 2.262601613998413 segundos\n"
     ]
    }
   ],
   "source": [
    "#best_order = (0,2,11)\n",
    "best_seasonal_order_tuple = best_seasonal_order_sarima + (12,)\n",
    "with warnings.catch_warnings():\n",
    "    warnings.simplefilter('ignore')\n",
    "    start_time = time.time()\n",
    "    prediction_list = []\n",
    "    for step in range(len(y_train)):\n",
    "        mod = sm.tsa.statespace.SARIMAX(y_train[step], order=best_order_sarima, seasonal_order=best_seasonal_order_tuple)\n",
    "        res = mod.fit(disp=False)\n",
    "        prediction_list.append(res.forecast(steps=1))\n",
    "    sarima_prediction = np.array(prediction_list)  \n",
    "    print(f'Tempo de execução {time.time() - start_time} segundos')"
   ]
  },
  {
   "cell_type": "code",
   "execution_count": 13,
   "id": "98a6569d-0ced-4133-aa65-9b44aaca8256",
   "metadata": {
    "tags": []
   },
   "outputs": [
    {
     "data": {
      "image/png": "[encoded data removed]",
      "text/plain": [
       "<Figure size 1440x432 with 1 Axes>"
      ]
     },
     "metadata": {
      "needs_background": "light"
     },
     "output_type": "display_data"
    }
   ],
   "source": [
    "plt.figure(figsize=(20,6))\n",
    "plt.xticks(rotation='vertical')\n",
    "plt.gca().xaxis.set_major_locator(plt.MultipleLocator(2))\n",
    "plt.plot(desembolso_time[:len(X_test)], X_test, 'b--', label=\"train\")\n",
    "plt.plot(desembolso_time[-len(y_true):], y_true, color='orange', linestyle=\"--\", label=\"test\")\n",
    "plt.plot(desembolso_time[-len(sarima_prediction):], sarima_prediction, 'r--', label=\"predictions\")\n",
    "plt.legend(loc='upper left')\n",
    "plt.title(f\"Sarimma parametros order({best_order_sarima})  seosanal order ({best_seasonal_order_sarima})\")\n",
    "plt.grid(alpha=0.3);"
   ]
  },
  {
   "cell_type": "code",
   "execution_count": 14,
   "id": "bb523be4-cc86-4439-8e85-bb65ed40ff04",
   "metadata": {},
   "outputs": [
    {
     "name": "stdout",
     "output_type": "stream",
     "text": [
      "Mean Squared Error: 7118.920901082134 \n",
      "Mean Absolute Error: 67.42114423959752\n",
      "R2 Score: 0.11272271338481332\n"
     ]
    }
   ],
   "source": [
    "sarima_mse = mean_squared_error(y_true, sarima_prediction, squared=True)\n",
    "sarima_mae = mean_absolute_error(y_true, sarima_prediction)\n",
    "sarima_r2 = r2_score(y_true, sarima_prediction)\n",
    "print(f'Mean Squared Error: {sarima_mse} ')\n",
    "print(f'Mean Absolute Error: {sarima_mae}')\n",
    "print(f'R2 Score: {sarima_r2}')"
   ]
  },
  {
   "cell_type": "code",
   "execution_count": null,
   "id": "1d9c6edd-bb4f-4e8b-a51d-001506f65492",
   "metadata": {},
   "outputs": [],
   "source": []
  },
  {
   "cell_type": "markdown",
   "id": "31db34f7-efa3-467e-8c75-b0896921dc6a",
   "metadata": {},
   "source": [
    "\n",
    "---\n",
    "## SARIMAX - Uso de Variáveis Exógenas\n",
    "\n",
    "Optamos por não evoluir nesse modelo e iniciar os testes com Redes Neurais"
   ]
  },
  {
   "cell_type": "code",
   "execution_count": 7,
   "id": "028c9d5d-4956-4030-abd7-75eb04372a70",
   "metadata": {},
   "outputs": [],
   "source": [
    "df_multivariate = df_oec_mpme[['desembolso', 'vendas', 'aprovacao',\n",
    "       'ind_atv_econ', 'dif_custo_bndes_mercado']]"
   ]
  },
  {
   "cell_type": "code",
   "execution_count": 8,
   "id": "c1201204-a1b1-4cf5-953d-66a46e1c209d",
   "metadata": {},
   "outputs": [
    {
     "data": {
      "text/html": [
       "<div>\n",
       "<style scoped>\n",
       "    .dataframe tbody tr th:only-of-type {\n",
       "        vertical-align: middle;\n",
       "    }\n",
       "\n",
       "    .dataframe tbody tr th {\n",
       "        vertical-align: top;\n",
       "    }\n",
       "\n",
       "    .dataframe thead th {\n",
       "        text-align: right;\n",
       "    }\n",
       "</style>\n",
       "<table border=\"1\" class=\"dataframe\">\n",
       "  <thead>\n",
       "    <tr style=\"text-align: right;\">\n",
       "      <th></th>\n",
       "      <th>desembolso</th>\n",
       "      <th>vendas</th>\n",
       "      <th>aprovacao</th>\n",
       "      <th>ind_atv_econ</th>\n",
       "      <th>dif_custo_bndes_mercado</th>\n",
       "    </tr>\n",
       "    <tr>\n",
       "      <th>data_base</th>\n",
       "      <th></th>\n",
       "      <th></th>\n",
       "      <th></th>\n",
       "      <th></th>\n",
       "      <th></th>\n",
       "    </tr>\n",
       "  </thead>\n",
       "  <tbody>\n",
       "    <tr>\n",
       "      <th>2009-10-01</th>\n",
       "      <td>1388.5</td>\n",
       "      <td>13123.0</td>\n",
       "      <td>1437.057832</td>\n",
       "      <td>129.78</td>\n",
       "      <td>-8.796206</td>\n",
       "    </tr>\n",
       "    <tr>\n",
       "      <th>2009-11-01</th>\n",
       "      <td>1339.9</td>\n",
       "      <td>13219.0</td>\n",
       "      <td>1497.107343</td>\n",
       "      <td>130.01</td>\n",
       "      <td>-9.062494</td>\n",
       "    </tr>\n",
       "    <tr>\n",
       "      <th>2009-12-01</th>\n",
       "      <td>1259.6</td>\n",
       "      <td>15104.0</td>\n",
       "      <td>1580.255803</td>\n",
       "      <td>131.36</td>\n",
       "      <td>-9.233439</td>\n",
       "    </tr>\n",
       "    <tr>\n",
       "      <th>2010-01-01</th>\n",
       "      <td>1682.7</td>\n",
       "      <td>11569.0</td>\n",
       "      <td>1853.163058</td>\n",
       "      <td>133.50</td>\n",
       "      <td>-9.156129</td>\n",
       "    </tr>\n",
       "    <tr>\n",
       "      <th>2010-02-01</th>\n",
       "      <td>1160.7</td>\n",
       "      <td>9581.0</td>\n",
       "      <td>1774.880889</td>\n",
       "      <td>135.18</td>\n",
       "      <td>-8.657825</td>\n",
       "    </tr>\n",
       "  </tbody>\n",
       "</table>\n",
       "</div>"
      ],
      "text/plain": [
       "            desembolso   vendas    aprovacao  ind_atv_econ  \\\n",
       "data_base                                                    \n",
       "2009-10-01      1388.5  13123.0  1437.057832        129.78   \n",
       "2009-11-01      1339.9  13219.0  1497.107343        130.01   \n",
       "2009-12-01      1259.6  15104.0  1580.255803        131.36   \n",
       "2010-01-01      1682.7  11569.0  1853.163058        133.50   \n",
       "2010-02-01      1160.7   9581.0  1774.880889        135.18   \n",
       "\n",
       "            dif_custo_bndes_mercado  \n",
       "data_base                            \n",
       "2009-10-01                -8.796206  \n",
       "2009-11-01                -9.062494  \n",
       "2009-12-01                -9.233439  \n",
       "2010-01-01                -9.156129  \n",
       "2010-02-01                -8.657825  "
      ]
     },
     "execution_count": 8,
     "metadata": {},
     "output_type": "execute_result"
    }
   ],
   "source": [
    "df_multivariate.head()"
   ]
  },
  {
   "cell_type": "code",
   "execution_count": 9,
   "id": "bcb94374-367b-4912-af87-246b57b07657",
   "metadata": {},
   "outputs": [
    {
     "data": {
      "text/html": [
       "<div>\n",
       "<style scoped>\n",
       "    .dataframe tbody tr th:only-of-type {\n",
       "        vertical-align: middle;\n",
       "    }\n",
       "\n",
       "    .dataframe tbody tr th {\n",
       "        vertical-align: top;\n",
       "    }\n",
       "\n",
       "    .dataframe thead th {\n",
       "        text-align: right;\n",
       "    }\n",
       "</style>\n",
       "<table border=\"1\" class=\"dataframe\">\n",
       "  <thead>\n",
       "    <tr style=\"text-align: right;\">\n",
       "      <th></th>\n",
       "      <th>desembolso</th>\n",
       "      <th>vendas</th>\n",
       "      <th>aprovacao</th>\n",
       "      <th>ind_atv_econ</th>\n",
       "      <th>dif_custo_bndes_mercado</th>\n",
       "    </tr>\n",
       "  </thead>\n",
       "  <tbody>\n",
       "    <tr>\n",
       "      <th>desembolso</th>\n",
       "      <td>1.000000</td>\n",
       "      <td>0.785499</td>\n",
       "      <td>0.883498</td>\n",
       "      <td>0.569277</td>\n",
       "      <td>-0.744364</td>\n",
       "    </tr>\n",
       "    <tr>\n",
       "      <th>vendas</th>\n",
       "      <td>0.785499</td>\n",
       "      <td>1.000000</td>\n",
       "      <td>0.751808</td>\n",
       "      <td>0.576453</td>\n",
       "      <td>-0.492160</td>\n",
       "    </tr>\n",
       "    <tr>\n",
       "      <th>aprovacao</th>\n",
       "      <td>0.883498</td>\n",
       "      <td>0.751808</td>\n",
       "      <td>1.000000</td>\n",
       "      <td>0.516675</td>\n",
       "      <td>-0.734661</td>\n",
       "    </tr>\n",
       "    <tr>\n",
       "      <th>ind_atv_econ</th>\n",
       "      <td>0.569277</td>\n",
       "      <td>0.576453</td>\n",
       "      <td>0.516675</td>\n",
       "      <td>1.000000</td>\n",
       "      <td>-0.549939</td>\n",
       "    </tr>\n",
       "    <tr>\n",
       "      <th>dif_custo_bndes_mercado</th>\n",
       "      <td>-0.744364</td>\n",
       "      <td>-0.492160</td>\n",
       "      <td>-0.734661</td>\n",
       "      <td>-0.549939</td>\n",
       "      <td>1.000000</td>\n",
       "    </tr>\n",
       "  </tbody>\n",
       "</table>\n",
       "</div>"
      ],
      "text/plain": [
       "                         desembolso    vendas  aprovacao  ind_atv_econ  \\\n",
       "desembolso                 1.000000  0.785499   0.883498      0.569277   \n",
       "vendas                     0.785499  1.000000   0.751808      0.576453   \n",
       "aprovacao                  0.883498  0.751808   1.000000      0.516675   \n",
       "ind_atv_econ               0.569277  0.576453   0.516675      1.000000   \n",
       "dif_custo_bndes_mercado   -0.744364 -0.492160  -0.734661     -0.549939   \n",
       "\n",
       "                         dif_custo_bndes_mercado  \n",
       "desembolso                             -0.744364  \n",
       "vendas                                 -0.492160  \n",
       "aprovacao                              -0.734661  \n",
       "ind_atv_econ                           -0.549939  \n",
       "dif_custo_bndes_mercado                 1.000000  "
      ]
     },
     "execution_count": 9,
     "metadata": {},
     "output_type": "execute_result"
    }
   ],
   "source": [
    "df_multivariate.corr()"
   ]
  },
  {
   "cell_type": "code",
   "execution_count": null,
   "id": "0918d10e-032f-4a88-8f55-db80e25b0a6a",
   "metadata": {},
   "outputs": [],
   "source": [
    "y_train_exogeno[0]"
   ]
  },
  {
   "cell_type": "code",
   "execution_count": 10,
   "id": "ce45f3a0-3c12-4beb-a5ba-054bd7f9eda2",
   "metadata": {},
   "outputs": [
    {
     "name": "stderr",
     "output_type": "stream",
     "text": [
      "C:\\Users\\gdutr\\AppData\\Local\\Temp/ipykernel_1936/778083698.py:21: VisibleDeprecationWarning: Creating an ndarray from ragged nested sequences (which is a list-or-tuple of lists-or-tuples-or ndarrays with different lengths or shapes) is deprecated. If you meant to do this, you must specify 'dtype=object' when creating the ndarray.\n",
      "  y_train_endogeno = np.array(test_endogeno_dataset_list)\n",
      "C:\\Users\\gdutr\\AppData\\Local\\Temp/ipykernel_1936/778083698.py:24: VisibleDeprecationWarning: Creating an ndarray from ragged nested sequences (which is a list-or-tuple of lists-or-tuples-or ndarrays with different lengths or shapes) is deprecated. If you meant to do this, you must specify 'dtype=object' when creating the ndarray.\n",
      "  y_train_exogeno = np.array(test_exogeno_dataset_list)\n"
     ]
    }
   ],
   "source": [
    "feature_columns = ['vendas', 'aprovacao',\n",
    "       'ind_atv_econ', 'dif_custo_bndes_mercado']\n",
    "pred_column = 'desembolso'\n",
    "X_test, y_train_endogeno, y_train_exogeno, y_test = split_train_test_multivariate_window_dataset(data_frame=df_multivariate,feature_columns=feature_columns, pred_column=pred_column,test_percentual_size=TEST_SPLIT_SIZE)"
   ]
  },
  {
   "cell_type": "code",
   "execution_count": null,
   "id": "e27e5d6c-53ba-4985-8211-f4b468e66a46",
   "metadata": {},
   "outputs": [],
   "source": [
    "best_order = (0,2,11)\n",
    "best_seasonal_order  = (1,1,1)\n",
    "best_seasonal_order_tuple = best_seasonal_order + (12,)\n",
    "with warnings.catch_warnings():\n",
    "    warnings.simplefilter('ignore')\n",
    "    start_time = time.time()\n",
    "    prediction_list = []\n",
    "    for step in range(len(y_train_endogeno)):\n",
    "        mod = sm.tsa.statespace.SARIMAX(endog=y_train_endogeno[step], exog=y_train_exogeno[step],order=best_order, seasonal_order=best_seasonal_order_tuple)\n",
    "        res = mod.fit(disp=False)\n",
    "        prediction_list.append(res.forecast(steps=1))\n",
    "    sarimax_prediction = np.array(prediction_list)  \n",
    "    print(f'Tempo de execução {time.time() - start_time} segundos')"
   ]
  },
  {
   "cell_type": "code",
   "execution_count": null,
   "id": "52b96967-2c71-41fc-8ce4-6d6a0ce62d5c",
   "metadata": {},
   "outputs": [],
   "source": []
  }
 ],
 "metadata": {
  "kernelspec": {
   "display_name": "Python 3 (ipykernel)",
   "language": "python",
   "name": "python3"
  },
  "language_info": {
   "codemirror_mode": {
    "name": "ipython",
    "version": 3
   },
   "file_extension": ".py",
   "mimetype": "text/x-python",
   "name": "python",
   "nbconvert_exporter": "python",
   "pygments_lexer": "ipython3",
   "version": "3.9.7"
  }
 },
 "nbformat": 4,
 "nbformat_minor": 5
}
