{
 "cells": [
  {
   "cell_type": "markdown",
   "id": "61139beb-1451-453e-91c2-472ff48324d7",
   "metadata": {},
   "source": [
    "# Previsão com Redes Neurais Recorrentes\n"
   ]
  },
  {
   "cell_type": "code",
   "execution_count": 1,
   "id": "4c733e17-9d54-4447-925e-7d0b8f87e140",
   "metadata": {},
   "outputs": [],
   "source": [
    "import pandas as pd\n",
    "from pandas import Grouper, DataFrame\n",
    "\n",
    "from typing import Tuple, List, Callable, Dict\n",
    "\n",
    "import numpy as np\n",
    "import os\n",
    "from datetime import datetime\n",
    "import random\n",
    "import time\n",
    "\n",
    "from matplotlib import pyplot as plt\n",
    "import seaborn as sns\n",
    "\n",
    "import inspect\n",
    "import warnings\n",
    "\n",
    "from sklearn.metrics import mean_absolute_error, mean_squared_error, r2_score\n",
    "from sklearn.preprocessing import MinMaxScaler\n",
    "\n",
    "from statsmodels.tsa.arima.model import ARIMA\n",
    "import statsmodels.api as sm\n",
    "\n",
    "import pickle\n",
    "\n",
    "import tensorflow as tf\n",
    "\n",
    "from math import ceil"
   ]
  },
  {
   "cell_type": "markdown",
   "id": "75725585-2b12-46ae-8f70-d116be9d8d38",
   "metadata": {},
   "source": [
    "## Constantes"
   ]
  },
  {
   "cell_type": "code",
   "execution_count": 48,
   "id": "ab549efb-7b2d-4675-ba08-87653caa361f",
   "metadata": {},
   "outputs": [],
   "source": [
    "DIR_DATASET: str = os.path.join('datasets', 'dados-gerados')\n",
    "\n",
    "DATASET_OEC_MPME = os.path.join(DIR_DATASET,  'oec_mpme.csv')\n",
    "\n",
    "DAT_CORRENTE = datetime.today().strftime(\"%Y-%m-%d\")\n",
    "\n",
    "TEST_SPLIT_SIZE = 15\n",
    "VAL_SPLIT_SIZE = 15\n",
    "WINDOW_SIZE = 24\n",
    "\n",
    "MEAN_SQUARED_METRIC = \"mean_squeared\"\n",
    "MEAN_ABSOLUTE_METRIC = \"mean_absolute\"\n",
    "R2_METRIC = \"r2\"\n",
    "\n",
    "MODEL_PATH = 'MODEL'\n",
    "SCALER_FILE_NAME = os.path.join(MODEL_PATH, 'scaler.pkl')\n",
    "\n",
    "BATCH_SIZE = 100\n"
   ]
  },
  {
   "cell_type": "markdown",
   "id": "fda3dbc4-53a7-4505-aa3a-2805e8a1148b",
   "metadata": {},
   "source": [
    "## Funções"
   ]
  },
  {
   "cell_type": "code",
   "execution_count": 3,
   "id": "580e932c-d5d7-4d3e-98d8-900fa1935e6b",
   "metadata": {
    "tags": []
   },
   "outputs": [],
   "source": [
    "# Returns X_train, y_train, X_valid, y_valid, X_test, y_test\n",
    "def split_train_validation_test_window_dataset(full_dataset: np.ndarray, \n",
    "                                               val_percentual_size: int, \n",
    "                                               test_percentual_size: int, \n",
    "                                               window_size: int) -> Tuple[np.ndarray, np.ndarray, np.ndarray, np.ndarray, np.ndarray, np.ndarray]:\n",
    "    dataset_size: int = full_dataset.shape[0]\n",
    "    cut_pos_test: int = round(dataset_size - (dataset_size * (test_percentual_size/100)))\n",
    "    cut_pos_val: int = round(cut_pos_test - (dataset_size * (val_percentual_size/100)))\n",
    "    \n",
    "    test_dataset_size: int = dataset_size - cut_pos_test\n",
    "    val_dataset_size: int = dataset_size - cut_pos_val - test_dataset_size\n",
    "    \n",
    "    y_train: np.ndarray = full_dataset[window_size : cut_pos_val]\n",
    "    y_val: np.ndarray = full_dataset[cut_pos_val : cut_pos_test]\n",
    "    y_test: np.ndarray = full_dataset[cut_pos_test:]\n",
    "    \n",
    "    train_dataset_list = [full_dataset[ind : ind + window_size] for ind in range (cut_pos_val - window_size)]\n",
    "    X_train = np.array(train_dataset_list)\n",
    "    \n",
    "    val_dataset_list = [full_dataset[cut_pos_val + ind - window_size :cut_pos_val + ind] for ind in range (val_dataset_size)]\n",
    "    X_valid = np.array(val_dataset_list)\n",
    "    \n",
    "    test_dataset_list = [full_dataset[cut_pos_test + ind - window_size :cut_pos_test + ind] for ind in range (test_dataset_size)]\n",
    "    X_test = np.array(test_dataset_list)\n",
    "    \n",
    "    return (X_train, y_train, X_valid, y_val, X_test, y_test)"
   ]
  },
  {
   "cell_type": "markdown",
   "id": "1d6f9a88-d7fc-485d-a5d3-4ea031ce43dc",
   "metadata": {},
   "source": [
    "## Carrega Datasets"
   ]
  },
  {
   "cell_type": "code",
   "execution_count": 4,
   "id": "27491cb5-652b-4f0f-a27c-93dbdf249781",
   "metadata": {},
   "outputs": [],
   "source": [
    "df_oec_mpme = pd.read_csv(DATASET_OEC_MPME, sep=';', decimal=',', parse_dates=True)\n",
    "df_oec_mpme.index = pd.DatetimeIndex(df_oec_mpme.data_base)\n",
    "df_oec_mpme[\"ano_mes\"] = pd.DatetimeIndex(df_oec_mpme.data_base).strftime('%Y-%m')\n",
    "df_oec_mpme_desembolso = df_oec_mpme[['desembolso','ano','mes', 'ano_mes']]\n",
    "\n",
    "desembolso = df_oec_mpme_desembolso[[\"desembolso\"]].to_numpy().squeeze()\n",
    "desembolso_time = df_oec_mpme_desembolso[[\"ano_mes\"]].to_numpy().squeeze()"
   ]
  },
  {
   "cell_type": "code",
   "execution_count": 5,
   "id": "c7ff32ed-e9e3-4f05-99ca-1abbe53e262b",
   "metadata": {},
   "outputs": [],
   "source": [
    "scaler = MinMaxScaler()\n",
    "desembolso = desembolso.reshape(-1,1)\n",
    "scaler.fit(desembolso)\n",
    "desembolso = scaler.transform(desembolso)\n",
    "desembolso = desembolso.squeeze()\n",
    "\n",
    "pickle.dump(scaler, open(SCALER_FILE_NAME, 'wb'))"
   ]
  },
  {
   "cell_type": "code",
   "execution_count": 6,
   "id": "f979f9e6-375f-44bb-aea1-bd490f864708",
   "metadata": {},
   "outputs": [],
   "source": [
    "(X_train, y_train, X_valid, y_valid, X_test, y_test) = split_train_validation_test_window_dataset(desembolso, VAL_SPLIT_SIZE, TEST_SPLIT_SIZE, WINDOW_SIZE)"
   ]
  },
  {
   "cell_type": "code",
   "execution_count": 7,
   "id": "c31e54ff-6851-4074-9e52-f8f9bb3a8030",
   "metadata": {},
   "outputs": [],
   "source": [
    "n_samples = X_train.shape[0] # samples\n",
    "n_timesteps = X_train.shape[1] # window_size\n",
    "n_features = 1 #univariate\n",
    "\n",
    "X_train_rs = X_train.reshape(n_samples, n_timesteps, n_features)\n",
    "X_valid_rs = X_valid.reshape(X_valid.shape[0], n_timesteps, n_features)"
   ]
  },
  {
   "cell_type": "markdown",
   "id": "34fa024a-5ba2-4a04-83f0-f6f860ad6705",
   "metadata": {},
   "source": [
    "---\n",
    "### Univariate LSTM"
   ]
  },
  {
   "cell_type": "code",
   "execution_count": 87,
   "id": "b63e762c-0257-46d9-bec4-919efdde6567",
   "metadata": {},
   "outputs": [],
   "source": [
    "# RNN recebe input_shape no seguinte formato\n",
    "# (N,T,D), where N is the number of samples, T is length of time sequence and D is the number of features\n",
    "\n",
    "lstm_model = tf.keras.models.Sequential([\n",
    "    tf.keras.layers.Bidirectional(tf.keras.layers.LSTM(100, return_sequences=True), input_shape=(n_timesteps,n_features)),\n",
    "    #tf.keras.layers.LSTM(100, input_shape=(n_timesteps,n_features), return_sequences=True),\n",
    "    #tf.keras.layers.Dropout(0.2),\n",
    "    tf.keras.layers.Bidirectional(tf.keras.layers.LSTM(units=50,return_sequences=False)),\n",
    "    #tf.keras.layers.LSTM(50, return_sequences=False),\n",
    "   # tf.keras.layers.Dense(20, activation='softmax'),\n",
    "    #tf.keras.layers.Dropout(0.2),\n",
    "    tf.keras.layers.Dense(units=1),\n",
    "])\n",
    "\n",
    "lstm_model.compile(optimizer='adam', loss='mse')\n"
   ]
  },
  {
   "cell_type": "code",
   "execution_count": 88,
   "id": "c87812df-4386-4a6c-b0d2-d181ce58a858",
   "metadata": {},
   "outputs": [
    {
     "name": "stdout",
     "output_type": "stream",
     "text": [
      "Epoch 1/150\n",
      "1/1 [==============================] - 4s 4s/step - loss: 0.0948 - val_loss: 0.0050\n",
      "Epoch 2/150\n",
      "1/1 [==============================] - 0s 131ms/step - loss: 0.0496 - val_loss: 0.0035\n",
      "Epoch 3/150\n",
      "1/1 [==============================] - 0s 105ms/step - loss: 0.0301 - val_loss: 0.0068\n",
      "Epoch 4/150\n",
      "1/1 [==============================] - 0s 104ms/step - loss: 0.0365 - val_loss: 0.0089\n",
      "Epoch 5/150\n",
      "1/1 [==============================] - 0s 103ms/step - loss: 0.0443 - val_loss: 0.0075\n",
      "Epoch 6/150\n",
      "1/1 [==============================] - 0s 102ms/step - loss: 0.0396 - val_loss: 0.0053\n",
      "Epoch 7/150\n",
      "1/1 [==============================] - 0s 102ms/step - loss: 0.0321 - val_loss: 0.0038\n",
      "Epoch 8/150\n",
      "1/1 [==============================] - 0s 125ms/step - loss: 0.0280 - val_loss: 0.0032\n",
      "Epoch 9/150\n",
      "1/1 [==============================] - 0s 103ms/step - loss: 0.0277 - val_loss: 0.0032\n",
      "Epoch 10/150\n",
      "1/1 [==============================] - 0s 104ms/step - loss: 0.0292 - val_loss: 0.0035\n",
      "Epoch 11/150\n",
      "1/1 [==============================] - 0s 102ms/step - loss: 0.0309 - val_loss: 0.0036\n",
      "Epoch 12/150\n",
      "1/1 [==============================] - 0s 104ms/step - loss: 0.0315 - val_loss: 0.0036\n",
      "Epoch 13/150\n",
      "1/1 [==============================] - 0s 102ms/step - loss: 0.0309 - val_loss: 0.0034\n",
      "Epoch 14/150\n",
      "1/1 [==============================] - 0s 121ms/step - loss: 0.0293 - val_loss: 0.0032\n",
      "Epoch 15/150\n",
      "1/1 [==============================] - 0s 131ms/step - loss: 0.0274 - val_loss: 0.0030\n",
      "Epoch 16/150\n",
      "1/1 [==============================] - 0s 127ms/step - loss: 0.0257 - val_loss: 0.0029\n",
      "Epoch 17/150\n",
      "1/1 [==============================] - 0s 103ms/step - loss: 0.0247 - val_loss: 0.0030\n",
      "Epoch 18/150\n",
      "1/1 [==============================] - 0s 101ms/step - loss: 0.0244 - val_loss: 0.0031\n",
      "Epoch 19/150\n",
      "1/1 [==============================] - 0s 102ms/step - loss: 0.0248 - val_loss: 0.0032\n",
      "Epoch 20/150\n",
      "1/1 [==============================] - 0s 104ms/step - loss: 0.0253 - val_loss: 0.0032\n",
      "Epoch 21/150\n",
      "1/1 [==============================] - 0s 102ms/step - loss: 0.0254 - val_loss: 0.0031\n",
      "Epoch 22/150\n",
      "1/1 [==============================] - 0s 122ms/step - loss: 0.0249 - val_loss: 0.0029\n",
      "Epoch 23/150\n",
      "1/1 [==============================] - 0s 130ms/step - loss: 0.0239 - val_loss: 0.0027\n",
      "Epoch 24/150\n",
      "1/1 [==============================] - 0s 119ms/step - loss: 0.0230 - val_loss: 0.0027\n",
      "Epoch 25/150\n",
      "1/1 [==============================] - 0s 111ms/step - loss: 0.0223 - val_loss: 0.0027\n",
      "Epoch 26/150\n",
      "1/1 [==============================] - 0s 102ms/step - loss: 0.0221 - val_loss: 0.0028\n",
      "Epoch 27/150\n",
      "1/1 [==============================] - 0s 105ms/step - loss: 0.0222 - val_loss: 0.0030\n",
      "Epoch 28/150\n",
      "1/1 [==============================] - 0s 103ms/step - loss: 0.0223 - val_loss: 0.0030\n",
      "Epoch 29/150\n",
      "1/1 [==============================] - 0s 92ms/step - loss: 0.0223 - val_loss: 0.0030\n",
      "Epoch 30/150\n",
      "1/1 [==============================] - 0s 113ms/step - loss: 0.0220 - val_loss: 0.0030\n",
      "Epoch 31/150\n",
      "1/1 [==============================] - 0s 104ms/step - loss: 0.0216 - val_loss: 0.0028\n",
      "Epoch 32/150\n",
      "1/1 [==============================] - 0s 102ms/step - loss: 0.0211 - val_loss: 0.0027\n",
      "Epoch 33/150\n",
      "1/1 [==============================] - 0s 127ms/step - loss: 0.0207 - val_loss: 0.0025\n",
      "Epoch 34/150\n",
      "1/1 [==============================] - 0s 129ms/step - loss: 0.0206 - val_loss: 0.0024\n",
      "Epoch 35/150\n",
      "1/1 [==============================] - 0s 128ms/step - loss: 0.0207 - val_loss: 0.0024\n",
      "Epoch 36/150\n",
      "1/1 [==============================] - 0s 125ms/step - loss: 0.0208 - val_loss: 0.0023\n",
      "Epoch 37/150\n",
      "1/1 [==============================] - 0s 129ms/step - loss: 0.0207 - val_loss: 0.0023\n",
      "Epoch 38/150\n",
      "1/1 [==============================] - 0s 105ms/step - loss: 0.0204 - val_loss: 0.0023\n",
      "Epoch 39/150\n",
      "1/1 [==============================] - 0s 104ms/step - loss: 0.0201 - val_loss: 0.0023\n",
      "Epoch 40/150\n",
      "1/1 [==============================] - 0s 104ms/step - loss: 0.0199 - val_loss: 0.0024\n",
      "Epoch 41/150\n",
      "1/1 [==============================] - 0s 104ms/step - loss: 0.0199 - val_loss: 0.0023\n",
      "Epoch 42/150\n",
      "1/1 [==============================] - 0s 129ms/step - loss: 0.0200 - val_loss: 0.0023\n",
      "Epoch 43/150\n",
      "1/1 [==============================] - 0s 126ms/step - loss: 0.0200 - val_loss: 0.0022\n",
      "Epoch 44/150\n",
      "1/1 [==============================] - 0s 125ms/step - loss: 0.0199 - val_loss: 0.0020\n",
      "Epoch 45/150\n",
      "1/1 [==============================] - 0s 134ms/step - loss: 0.0196 - val_loss: 0.0019\n",
      "Epoch 46/150\n",
      "1/1 [==============================] - 0s 113ms/step - loss: 0.0195 - val_loss: 0.0019\n",
      "Epoch 47/150\n",
      "1/1 [==============================] - 0s 139ms/step - loss: 0.0195 - val_loss: 0.0018\n",
      "Epoch 48/150\n",
      "1/1 [==============================] - 0s 128ms/step - loss: 0.0195 - val_loss: 0.0018\n",
      "Epoch 49/150\n",
      "1/1 [==============================] - 0s 126ms/step - loss: 0.0195 - val_loss: 0.0018\n",
      "Epoch 50/150\n",
      "1/1 [==============================] - 0s 121ms/step - loss: 0.0193 - val_loss: 0.0017\n",
      "Epoch 51/150\n",
      "1/1 [==============================] - 0s 132ms/step - loss: 0.0192 - val_loss: 0.0017\n",
      "Epoch 52/150\n",
      "1/1 [==============================] - 0s 127ms/step - loss: 0.0192 - val_loss: 0.0017\n",
      "Epoch 53/150\n",
      "1/1 [==============================] - 0s 102ms/step - loss: 0.0192 - val_loss: 0.0017\n",
      "Epoch 54/150\n",
      "1/1 [==============================] - 0s 105ms/step - loss: 0.0192 - val_loss: 0.0017\n",
      "Epoch 55/150\n",
      "1/1 [==============================] - 0s 105ms/step - loss: 0.0191 - val_loss: 0.0018\n",
      "Epoch 56/150\n",
      "1/1 [==============================] - 0s 104ms/step - loss: 0.0190 - val_loss: 0.0019\n",
      "Epoch 57/150\n",
      "1/1 [==============================] - 0s 103ms/step - loss: 0.0190 - val_loss: 0.0021\n",
      "Epoch 58/150\n",
      "1/1 [==============================] - 0s 102ms/step - loss: 0.0190 - val_loss: 0.0022\n",
      "Epoch 59/150\n",
      "1/1 [==============================] - 0s 102ms/step - loss: 0.0190 - val_loss: 0.0022\n",
      "Epoch 60/150\n",
      "1/1 [==============================] - 0s 102ms/step - loss: 0.0190 - val_loss: 0.0022\n",
      "Epoch 61/150\n",
      "1/1 [==============================] - 0s 104ms/step - loss: 0.0189 - val_loss: 0.0021\n",
      "Epoch 62/150\n",
      "1/1 [==============================] - 0s 102ms/step - loss: 0.0190 - val_loss: 0.0022\n",
      "Epoch 00062: early stopping\n"
     ]
    }
   ],
   "source": [
    "model_univariate_path = os.path.join(MODEL_PATH, 'model-lstm-desembolso-univariate.h5')\n",
    "\n",
    "history = lstm_model.fit(x=X_train,\n",
    "                         y=y_train,\n",
    "                         validation_data=(X_valid, y_valid),\n",
    "                         epochs=150,\n",
    "                         shuffle=False,\n",
    "                         batch_size=BATCH_SIZE,\n",
    "                         callbacks =[tf.keras.callbacks.EarlyStopping(monitor='val_loss', min_delta=0, patience=10,verbose=1, mode='min'),\n",
    "                                     tf.keras.callbacks.ModelCheckpoint(model_univariate_path, monitor='val_loss', save_best_only=True, mode='min', verbose=0)]\n",
    "                        )"
   ]
  },
  {
   "cell_type": "code",
   "execution_count": 89,
   "id": "0cd3a73d-c87a-4091-8879-fd4a3f305720",
   "metadata": {},
   "outputs": [
    {
     "data": {
      "image/png": "[encoded data removed]",
      "text/plain": [
       "<Figure size 1152x648 with 1 Axes>"
      ]
     },
     "metadata": {
      "needs_background": "light"
     },
     "output_type": "display_data"
    }
   ],
   "source": [
    "plt.plot(history.history['loss'])\n",
    "plt.plot(history.history['val_loss'])\n",
    "plt.title('Model loss')\n",
    "plt.ylabel('loss')\n",
    "plt.xlabel('epoch')\n",
    "plt.legend(['train loss', 'validation loss'], loc='upper left')\n",
    "plt.rcParams[\"figure.figsize\"] = [16,9]\n",
    "plt.show()"
   ]
  },
  {
   "cell_type": "code",
   "execution_count": 91,
   "id": "f3fd300c-233a-43f2-8859-365462d39ca8",
   "metadata": {},
   "outputs": [],
   "source": [
    "model_univariate = tf.keras.models.load_model(model_univariate_path)"
   ]
  },
  {
   "cell_type": "code",
   "execution_count": 92,
   "id": "d6962e2e-8c03-47ba-b4a2-3d42d1d03c95",
   "metadata": {},
   "outputs": [],
   "source": [
    "X_test_rs = X_test.reshape(X_test.shape[0], WINDOW_SIZE, 1)\n",
    "\n",
    "y_predict = model_univariate.predict(X_test_rs)\n",
    "\n",
    "y_predict = scaler.inverse_transform(y_predict)\n",
    "\n",
    "y_test_rs = y_test.reshape(-1,1)\n",
    "y_true = scaler.inverse_transform(y_test_rs)\n",
    "\n",
    "y_predict_univariate_lstm = y_predict.squeeze()\n",
    "y_true_univariate_lstm = y_true.squeeze()"
   ]
  },
  {
   "cell_type": "code",
   "execution_count": 93,
   "id": "329e8955-05dd-45b2-90a3-7e027a7dae2a",
   "metadata": {},
   "outputs": [
    {
     "data": {
      "image/png": "[encoded data removed]",
      "text/plain": [
       "<Figure size 1440x432 with 1 Axes>"
      ]
     },
     "metadata": {
      "needs_background": "light"
     },
     "output_type": "display_data"
    }
   ],
   "source": [
    "y_train_rs = y_train.reshape(-1,1)\n",
    "y_train_rs = scaler.inverse_transform(y_train_rs)\n",
    "y_train_rs = y_train_rs.squeeze()\n",
    "\n",
    "y_valid_rs = y_valid.reshape(-1,1)\n",
    "y_valid_rs = scaler.inverse_transform(y_valid_rs)\n",
    "y_valid_rs = y_valid_rs.squeeze()\n",
    "\n",
    "len_train = len(y_train_rs)\n",
    "len_with_valid = len(y_train_rs) + len(y_valid_rs)\n",
    "len_with_test = len(y_train) + len(y_valid) + len(y_test)\n",
    "\n",
    "plt.figure(figsize=(20,6))\n",
    "plt.xticks(rotation='vertical')\n",
    "plt.gca().xaxis.set_major_locator(plt.MultipleLocator(2))\n",
    "plt.plot(desembolso_time[:len_train], y_train_rs, 'b--', label=\"train\")\n",
    "plt.plot(desembolso_time[len_train:len_with_valid], y_valid_rs, color='green', linestyle=\"--\", label=\"validation\")\n",
    "plt.plot(desembolso_time[len_with_valid:len_with_test], y_true_univariate_lstm, color='orange', linestyle='--', label=\"test\")\n",
    "plt.plot(desembolso_time[len_with_valid:len_with_test], y_predict_univariate_lstm, 'r--', label=\"predictions\")\n",
    "plt.legend(loc='upper left')\n",
    "plt.title(f\"Univariate LST Prevision\")\n",
    "plt.grid(alpha=0.3);"
   ]
  },
  {
   "cell_type": "code",
   "execution_count": 161,
   "id": "a40b52c0-1f47-451f-aabb-5b06f18a62e1",
   "metadata": {},
   "outputs": [
    {
     "data": {
      "text/plain": [
       "array([[0.        ],\n",
       "       [0.03053972],\n",
       "       [0.02119295],\n",
       "       [0.07333688],\n",
       "       [0.12236084],\n",
       "       [0.0849965 ],\n",
       "       [0.05290877],\n",
       "       [0.04712102],\n",
       "       [0.05958559],\n",
       "       [0.0373751 ],\n",
       "       [0.06377636],\n",
       "       [0.01212547],\n",
       "       [0.01840494],\n",
       "       [0.08600916],\n",
       "       [0.0647226 ],\n",
       "       [0.09111268],\n",
       "       [0.0639237 ],\n",
       "       [0.05537412],\n",
       "       [0.0637601 ],\n",
       "       [0.07381278],\n",
       "       [0.09115141],\n",
       "       [0.10897051]])"
      ]
     },
     "execution_count": 161,
     "metadata": {},
     "output_type": "execute_result"
    }
   ],
   "source": [
    "y_true"
   ]
  },
  {
   "cell_type": "code",
   "execution_count": 160,
   "id": "eb25786c-dbe6-4b75-a43d-cc6af5b10fb1",
   "metadata": {},
   "outputs": [
    {
     "data": {
      "text/plain": [
       "array([0.12494645, 0.12470386, 0.12469054, 0.12425758, 0.12407469,\n",
       "       0.12426187, 0.12421622, 0.12377393, 0.12329822, 0.12295398,\n",
       "       0.12229259, 0.12130764, 0.12094557, 0.12049697, 0.12003214,\n",
       "       0.1193881 , 0.1184402 , 0.11773716, 0.11621802, 0.11491969,\n",
       "       0.11379337, 0.11273589], dtype=float32)"
      ]
     },
     "execution_count": 160,
     "metadata": {},
     "output_type": "execute_result"
    }
   ],
   "source": [
    "y_predict_univariate_lstm"
   ]
  },
  {
   "cell_type": "code",
   "execution_count": 94,
   "id": "83ef5466-a562-49c9-ace7-c801c7a38134",
   "metadata": {},
   "outputs": [
    {
     "name": "stdout",
     "output_type": "stream",
     "text": [
      "Mean Squared Error: 12408.19463810766 \n",
      "Mean Absolute Error: 83.58477522203478\n",
      "R2 Score: -0.08433028797930042\n"
     ]
    }
   ],
   "source": [
    "univariate_lstm_mse = mean_squared_error(y_true, y_predict_univariate_lstm, squared=True)\n",
    "univariate_lstm_mae = mean_absolute_error(y_true, y_predict_univariate_lstm)\n",
    "univariate_lstm_r2 = r2_score(y_true, y_predict_univariate_lstm)\n",
    "print(f'Mean Squared Error: {univariate_lstm_mse} ')\n",
    "print(f'Mean Absolute Error: {univariate_lstm_mae}')\n",
    "print(f'R2 Score: {univariate_lstm_r2}')"
   ]
  },
  {
   "cell_type": "code",
   "execution_count": null,
   "id": "58e6784e-c768-4bfc-8cb3-28cb726e6269",
   "metadata": {},
   "outputs": [],
   "source": []
  }
 ],
 "metadata": {
  "kernelspec": {
   "display_name": "Python 3 (ipykernel)",
   "language": "python",
   "name": "python3"
  },
  "language_info": {
   "codemirror_mode": {
    "name": "ipython",
    "version": 3
   },
   "file_extension": ".py",
   "mimetype": "text/x-python",
   "name": "python",
   "nbconvert_exporter": "python",
   "pygments_lexer": "ipython3",
   "version": "3.9.7"
  }
 },
 "nbformat": 4,
 "nbformat_minor": 5
}
