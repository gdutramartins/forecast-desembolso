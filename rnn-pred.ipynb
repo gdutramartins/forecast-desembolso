{
 "cells": [
  {
   "cell_type": "markdown",
   "id": "61139beb-1451-453e-91c2-472ff48324d7",
   "metadata": {},
   "source": [
    "# Previsão com Redes Neurais Recorrentes (Univariadas)\n"
   ]
  },
  {
   "cell_type": "code",
   "execution_count": 1,
   "id": "4c733e17-9d54-4447-925e-7d0b8f87e140",
   "metadata": {},
   "outputs": [],
   "source": [
    "import pandas as pd\n",
    "from pandas import Grouper, DataFrame\n",
    "\n",
    "from typing import Tuple, List, Callable, Dict\n",
    "\n",
    "import numpy as np\n",
    "import os\n",
    "from datetime import datetime\n",
    "import random\n",
    "import time\n",
    "\n",
    "from matplotlib import pyplot as plt\n",
    "import seaborn as sns\n",
    "\n",
    "import inspect\n",
    "import warnings\n",
    "\n",
    "from sklearn.metrics import mean_absolute_error, mean_squared_error, r2_score\n",
    "from sklearn.preprocessing import MinMaxScaler\n",
    "\n",
    "from statsmodels.tsa.arima.model import ARIMA\n",
    "import statsmodels.api as sm\n",
    "\n",
    "import pickle\n",
    "\n",
    "import tensorflow as tf\n",
    "\n",
    "from math import ceil"
   ]
  },
  {
   "cell_type": "markdown",
   "id": "75725585-2b12-46ae-8f70-d116be9d8d38",
   "metadata": {},
   "source": [
    "## Constantes"
   ]
  },
  {
   "cell_type": "code",
   "execution_count": 2,
   "id": "ab549efb-7b2d-4675-ba08-87653caa361f",
   "metadata": {},
   "outputs": [],
   "source": [
    "DIR_DATASET: str = os.path.join('datasets', 'dados-gerados')\n",
    "\n",
    "DATASET_OEC_MPME = os.path.join(DIR_DATASET,  'oec_mpme.csv')\n",
    "\n",
    "DAT_CORRENTE = datetime.today().strftime(\"%Y-%m-%d\")\n",
    "\n",
    "TEST_SPLIT_SIZE = 15\n",
    "VAL_SPLIT_SIZE = 15\n",
    "WINDOW_SIZE = 24\n",
    "MEAN_SQUARED_METRIC = \"mean_squeared\"\n",
    "MEAN_ABSOLUTE_METRIC = \"mean_absolute\"\n",
    "R2_METRIC = \"r2\"\n",
    "\n",
    "MODEL_PATH = 'MODEL'\n",
    "SCALER_FILE_NAME = os.path.join(MODEL_PATH, 'scaler.pkl')\n",
    "\n",
    "BATCH_SIZE = 20\n"
   ]
  },
  {
   "cell_type": "markdown",
   "id": "fda3dbc4-53a7-4505-aa3a-2805e8a1148b",
   "metadata": {},
   "source": [
    "## Funções"
   ]
  },
  {
   "cell_type": "code",
   "execution_count": 3,
   "id": "580e932c-d5d7-4d3e-98d8-900fa1935e6b",
   "metadata": {
    "tags": []
   },
   "outputs": [],
   "source": [
    "\n",
    "def split_train_validation_test_window_dataset(full_dataset: np.ndarray, \n",
    "                                               val_percentual_size: int, \n",
    "                                               test_percentual_size: int, \n",
    "                                               window_size: int) -> Tuple[np.ndarray, np.ndarray, np.ndarray, np.ndarray, np.ndarray, np.ndarray]:\n",
    "    \"\"\"\n",
    "        Separação dos dados de treino, validação e teste com criação de janelas.\n",
    "        \n",
    "        Args:\n",
    "            full_dataset (ndarray): dataset com os desembolsos ordenados por ano/mes.\n",
    "            val_percentual_size (int): percentual de dados para validação.\n",
    "            test_percentual_size (int): percentual de dados para teste\n",
    "            window_size (int): tamanho da janela\n",
    "        \n",
    "        Returns:\n",
    "            1) X_train (ndarray[train_size,window_size]): vetor de desembolsos janelados para treinar o modelo (feature treino). \n",
    "            2) y_train (ndarray[train_size,1]): vetor de desembolsos contendo o valor do desembolso do mês consecutivo a janela de cada item de X_train (label treino).\n",
    "            3) X_valid (ndarray[validation_size,window_size]): vetor de desembolsos janelados para validação do modelo (feature validação).\n",
    "            4) y_val (ndarray[validation_size,1]): vetor de desembolsos contendo o valor do desembolso do mês consecutivo a janela de cada item de X_valid (label validação).\n",
    "            5) X_test (ndarray[test_size,window_size]): vetor de desembolsos janelados para teste do modelo (feature teste). \n",
    "            6) y_test (ndarray[test_size,1]): vetor de desembolsos contendo o valor do desembolso do mês consecutivo a janela de cada item de X_test (label test).\n",
    "    \"\"\"\n",
    "    \n",
    "    dataset_size: int = full_dataset.shape[0]\n",
    "    cut_pos_test: int = round(dataset_size - (dataset_size * (test_percentual_size/100)))\n",
    "    cut_pos_val: int = round(cut_pos_test - (dataset_size * (val_percentual_size/100)))\n",
    "    \n",
    "    test_dataset_size: int = dataset_size - cut_pos_test\n",
    "    val_dataset_size: int = dataset_size - cut_pos_val - test_dataset_size\n",
    "    \n",
    "    y_train: np.ndarray = full_dataset[window_size : cut_pos_val]\n",
    "    y_val: np.ndarray = full_dataset[cut_pos_val : cut_pos_test]\n",
    "    y_test: np.ndarray = full_dataset[cut_pos_test:]\n",
    "    \n",
    "    train_dataset_list = [full_dataset[ind : ind + window_size] for ind in range (cut_pos_val - window_size)]\n",
    "    X_train = np.array(train_dataset_list)\n",
    "    \n",
    "    val_dataset_list = [full_dataset[cut_pos_val + ind - window_size :cut_pos_val + ind] for ind in range (val_dataset_size)]\n",
    "    X_valid = np.array(val_dataset_list)\n",
    "    \n",
    "    test_dataset_list = [full_dataset[cut_pos_test + ind - window_size :cut_pos_test + ind] for ind in range (test_dataset_size)]\n",
    "    X_test = np.array(test_dataset_list)\n",
    "    \n",
    "    return (X_train, y_train, X_valid, y_val, X_test, y_test)"
   ]
  },
  {
   "cell_type": "markdown",
   "id": "1d6f9a88-d7fc-485d-a5d3-4ea031ce43dc",
   "metadata": {},
   "source": [
    "## Carrega Datasets"
   ]
  },
  {
   "cell_type": "code",
   "execution_count": 4,
   "id": "27491cb5-652b-4f0f-a27c-93dbdf249781",
   "metadata": {},
   "outputs": [],
   "source": [
    "df_oec_mpme = pd.read_csv(DATASET_OEC_MPME, sep=';', decimal=',', parse_dates=True)\n",
    "df_oec_mpme.index = pd.DatetimeIndex(df_oec_mpme.data_base)\n",
    "df_oec_mpme[\"ano_mes\"] = pd.DatetimeIndex(df_oec_mpme.data_base).strftime('%Y-%m')\n",
    "df_oec_mpme_desembolso = df_oec_mpme[['desembolso','ano','mes', 'ano_mes']]\n",
    "\n",
    "desembolso = df_oec_mpme_desembolso[[\"desembolso\"]].to_numpy().squeeze()\n",
    "desembolso_time = df_oec_mpme_desembolso[[\"ano_mes\"]].to_numpy().squeeze()"
   ]
  },
  {
   "cell_type": "markdown",
   "id": "5c827399-5f6f-4a8b-8fab-a649dcd19f84",
   "metadata": {},
   "source": [
    "Cria o scaler para normalização dos dados, será utilizado no treino, validação e teste. \n",
    "Também realizará a reversão do valor previsto pelo modelo.\n",
    "Será persistido para utilização futura, caso necessário"
   ]
  },
  {
   "cell_type": "code",
   "execution_count": 5,
   "id": "c7ff32ed-e9e3-4f05-99ca-1abbe53e262b",
   "metadata": {},
   "outputs": [],
   "source": [
    "scaler = MinMaxScaler()\n",
    "desembolso = desembolso.reshape(-1,1)\n",
    "scaler.fit(desembolso)\n",
    "desembolso = scaler.transform(desembolso)\n",
    "desembolso = desembolso.squeeze()\n",
    "\n",
    "pickle.dump(scaler, open(SCALER_FILE_NAME, 'wb'))"
   ]
  },
  {
   "cell_type": "code",
   "execution_count": 6,
   "id": "f979f9e6-375f-44bb-aea1-bd490f864708",
   "metadata": {},
   "outputs": [],
   "source": [
    "(X_train, y_train, X_valid, y_valid, X_test, y_test) = split_train_validation_test_window_dataset(desembolso, VAL_SPLIT_SIZE, TEST_SPLIT_SIZE, WINDOW_SIZE)"
   ]
  },
  {
   "cell_type": "code",
   "execution_count": 7,
   "id": "c31e54ff-6851-4074-9e52-f8f9bb3a8030",
   "metadata": {},
   "outputs": [],
   "source": [
    "n_samples = X_train.shape[0] # samples\n",
    "n_timesteps = X_train.shape[1] # window_size\n",
    "n_features = 1 #univariate\n",
    "\n",
    "X_train_rs = X_train.reshape(n_samples, n_timesteps, n_features)\n",
    "X_valid_rs = X_valid.reshape(X_valid.shape[0], n_timesteps, n_features)"
   ]
  },
  {
   "cell_type": "markdown",
   "id": "34fa024a-5ba2-4a04-83f0-f6f860ad6705",
   "metadata": {},
   "source": [
    "---\n",
    "### Univariate LSTM"
   ]
  },
  {
   "cell_type": "code",
   "execution_count": 16,
   "id": "b63e762c-0257-46d9-bec4-919efdde6567",
   "metadata": {},
   "outputs": [],
   "source": [
    "# RNN recebe input_shape no seguinte formato\n",
    "# (N,T,D), where N is the number of samples, T is length of time sequence and D is the number of features\n",
    "\n",
    "lstm_model = tf.keras.models.Sequential([\n",
    "    #tf.keras.layers.Bidirectional(tf.keras.layers.LSTM(100, return_sequences=True, recurrent_dropout=0.1), input_shape=(n_timesteps,n_features)),\n",
    "    tf.keras.layers.LSTM(350, input_shape=(n_timesteps,n_features), return_sequences=True),\n",
    "    #tf.keras.layers.SpatialDropout1D(0.1),\n",
    "    #tf.keras.layers.Dropout(0.2),\n",
    "    #tf.keras.layers.Bidirectional(tf.keras.layers.LSTM(50,return_sequences=False, recurrent_dropout=0.1)),\n",
    "    #tf.keras.layers.SpatialDropout1D(0.1),\n",
    "    tf.keras.layers.LSTM(350, return_sequences=False),    \n",
    "    tf.keras.layers.Dense(20, activation='tanh'),\n",
    "    #tf.keras.layers.Dropout(0.2),\n",
    "    tf.keras.layers.Dense(units=1),\n",
    "])\n",
    "\n",
    "lstm_model.compile(optimizer='adam', loss='mse')\n"
   ]
  },
  {
   "cell_type": "code",
   "execution_count": 17,
   "id": "dadababa-47b7-4a53-9df4-025198d92324",
   "metadata": {},
   "outputs": [
    {
     "name": "stdout",
     "output_type": "stream",
     "text": [
      "Model: \"sequential_1\"\n",
      "_________________________________________________________________\n",
      " Layer (type)                Output Shape              Param #   \n",
      "=================================================================\n",
      " lstm_2 (LSTM)               (None, 24, 350)           492800    \n",
      "                                                                 \n",
      " lstm_3 (LSTM)               (None, 350)               981400    \n",
      "                                                                 \n",
      " dense_2 (Dense)             (None, 20)                7020      \n",
      "                                                                 \n",
      " dense_3 (Dense)             (None, 1)                 21        \n",
      "                                                                 \n",
      "=================================================================\n",
      "Total params: 1,481,241\n",
      "Trainable params: 1,481,241\n",
      "Non-trainable params: 0\n",
      "_________________________________________________________________\n"
     ]
    }
   ],
   "source": [
    "lstm_model.summary()"
   ]
  },
  {
   "cell_type": "code",
   "execution_count": 18,
   "id": "c87812df-4386-4a6c-b0d2-d181ce58a858",
   "metadata": {},
   "outputs": [
    {
     "name": "stdout",
     "output_type": "stream",
     "text": [
      "Epoch 1/150\n",
      "4/4 [==============================] - 3s 238ms/step - loss: 0.1428 - val_loss: 0.0029\n",
      "Epoch 2/150\n",
      "4/4 [==============================] - 0s 77ms/step - loss: 0.0402 - val_loss: 0.0034\n",
      "Epoch 3/150\n",
      "4/4 [==============================] - 0s 75ms/step - loss: 0.0400 - val_loss: 0.0045\n",
      "Epoch 4/150\n",
      "4/4 [==============================] - 0s 73ms/step - loss: 0.0303 - val_loss: 0.0058\n",
      "Epoch 5/150\n",
      "4/4 [==============================] - 0s 81ms/step - loss: 0.0212 - val_loss: 0.0023\n",
      "Epoch 6/150\n",
      "4/4 [==============================] - 0s 88ms/step - loss: 0.0242 - val_loss: 0.0022\n",
      "Epoch 7/150\n",
      "4/4 [==============================] - 0s 77ms/step - loss: 0.0244 - val_loss: 0.0029\n",
      "Epoch 8/150\n",
      "4/4 [==============================] - 0s 79ms/step - loss: 0.0226 - val_loss: 0.0033\n",
      "Epoch 9/150\n",
      "4/4 [==============================] - 0s 76ms/step - loss: 0.0209 - val_loss: 0.0022\n",
      "Epoch 10/150\n",
      "4/4 [==============================] - 0s 86ms/step - loss: 0.0204 - val_loss: 0.0020\n",
      "Epoch 11/150\n",
      "4/4 [==============================] - 0s 75ms/step - loss: 0.0212 - val_loss: 0.0020\n",
      "Epoch 12/150\n",
      "4/4 [==============================] - 0s 74ms/step - loss: 0.0208 - val_loss: 0.0021\n",
      "Epoch 13/150\n",
      "4/4 [==============================] - 0s 81ms/step - loss: 0.0202 - val_loss: 0.0019\n",
      "Epoch 14/150\n",
      "4/4 [==============================] - 0s 83ms/step - loss: 0.0199 - val_loss: 0.0018\n",
      "Epoch 15/150\n",
      "4/4 [==============================] - 0s 83ms/step - loss: 0.0203 - val_loss: 0.0018\n",
      "Epoch 16/150\n",
      "4/4 [==============================] - 0s 76ms/step - loss: 0.0201 - val_loss: 0.0019\n",
      "Epoch 17/150\n",
      "4/4 [==============================] - 0s 85ms/step - loss: 0.0199 - val_loss: 0.0018\n",
      "Epoch 18/150\n",
      "4/4 [==============================] - 0s 89ms/step - loss: 0.0198 - val_loss: 0.0018\n",
      "Epoch 19/150\n",
      "4/4 [==============================] - 0s 75ms/step - loss: 0.0199 - val_loss: 0.0018\n",
      "Epoch 20/150\n",
      "4/4 [==============================] - 0s 77ms/step - loss: 0.0198 - val_loss: 0.0019\n",
      "Epoch 21/150\n",
      "4/4 [==============================] - 0s 75ms/step - loss: 0.0196 - val_loss: 0.0018\n",
      "Epoch 22/150\n",
      "4/4 [==============================] - 0s 74ms/step - loss: 0.0196 - val_loss: 0.0018\n",
      "Epoch 23/150\n",
      "4/4 [==============================] - 0s 76ms/step - loss: 0.0197 - val_loss: 0.0018\n",
      "Epoch 24/150\n",
      "4/4 [==============================] - 0s 76ms/step - loss: 0.0196 - val_loss: 0.0018\n",
      "Epoch 25/150\n",
      "4/4 [==============================] - 0s 79ms/step - loss: 0.0195 - val_loss: 0.0018\n",
      "Epoch 26/150\n",
      "4/4 [==============================] - 0s 87ms/step - loss: 0.0195 - val_loss: 0.0017\n",
      "Epoch 27/150\n",
      "4/4 [==============================] - 0s 74ms/step - loss: 0.0195 - val_loss: 0.0017\n",
      "Epoch 28/150\n",
      "4/4 [==============================] - 0s 85ms/step - loss: 0.0194 - val_loss: 0.0017\n",
      "Epoch 29/150\n",
      "4/4 [==============================] - 0s 84ms/step - loss: 0.0194 - val_loss: 0.0017\n",
      "Epoch 30/150\n",
      "4/4 [==============================] - 0s 88ms/step - loss: 0.0194 - val_loss: 0.0017\n",
      "Epoch 31/150\n",
      "4/4 [==============================] - 0s 89ms/step - loss: 0.0194 - val_loss: 0.0017\n",
      "Epoch 32/150\n",
      "4/4 [==============================] - 0s 82ms/step - loss: 0.0193 - val_loss: 0.0017\n",
      "Epoch 33/150\n",
      "4/4 [==============================] - 0s 89ms/step - loss: 0.0193 - val_loss: 0.0017\n",
      "Epoch 34/150\n",
      "4/4 [==============================] - 0s 84ms/step - loss: 0.0193 - val_loss: 0.0016\n",
      "Epoch 35/150\n",
      "4/4 [==============================] - 0s 85ms/step - loss: 0.0192 - val_loss: 0.0016\n",
      "Epoch 36/150\n",
      "4/4 [==============================] - 0s 83ms/step - loss: 0.0192 - val_loss: 0.0016\n",
      "Epoch 37/150\n",
      "4/4 [==============================] - 0s 89ms/step - loss: 0.0192 - val_loss: 0.0016\n",
      "Epoch 38/150\n",
      "4/4 [==============================] - 0s 85ms/step - loss: 0.0192 - val_loss: 0.0016\n",
      "Epoch 39/150\n",
      "4/4 [==============================] - 0s 87ms/step - loss: 0.0191 - val_loss: 0.0016\n",
      "Epoch 40/150\n",
      "4/4 [==============================] - 0s 81ms/step - loss: 0.0191 - val_loss: 0.0016\n",
      "Epoch 41/150\n",
      "4/4 [==============================] - 0s 85ms/step - loss: 0.0191 - val_loss: 0.0016\n",
      "Epoch 42/150\n",
      "4/4 [==============================] - 0s 84ms/step - loss: 0.0191 - val_loss: 0.0016\n",
      "Epoch 43/150\n",
      "4/4 [==============================] - 0s 83ms/step - loss: 0.0190 - val_loss: 0.0015\n",
      "Epoch 44/150\n",
      "4/4 [==============================] - 0s 84ms/step - loss: 0.0190 - val_loss: 0.0015\n",
      "Epoch 45/150\n",
      "4/4 [==============================] - 0s 83ms/step - loss: 0.0190 - val_loss: 0.0015\n",
      "Epoch 46/150\n",
      "4/4 [==============================] - 0s 81ms/step - loss: 0.0190 - val_loss: 0.0015\n",
      "Epoch 47/150\n",
      "4/4 [==============================] - 0s 87ms/step - loss: 0.0190 - val_loss: 0.0015\n",
      "Epoch 48/150\n",
      "4/4 [==============================] - 0s 85ms/step - loss: 0.0189 - val_loss: 0.0015\n",
      "Epoch 49/150\n",
      "4/4 [==============================] - 0s 83ms/step - loss: 0.0189 - val_loss: 0.0015\n",
      "Epoch 50/150\n",
      "4/4 [==============================] - 0s 84ms/step - loss: 0.0189 - val_loss: 0.0015\n",
      "Epoch 51/150\n",
      "4/4 [==============================] - 0s 89ms/step - loss: 0.0189 - val_loss: 0.0015\n",
      "Epoch 52/150\n",
      "4/4 [==============================] - 0s 91ms/step - loss: 0.0189 - val_loss: 0.0015\n",
      "Epoch 53/150\n",
      "4/4 [==============================] - 0s 88ms/step - loss: 0.0188 - val_loss: 0.0015\n",
      "Epoch 54/150\n",
      "4/4 [==============================] - 0s 84ms/step - loss: 0.0188 - val_loss: 0.0015\n",
      "Epoch 55/150\n",
      "4/4 [==============================] - 0s 88ms/step - loss: 0.0188 - val_loss: 0.0014\n",
      "Epoch 56/150\n",
      "4/4 [==============================] - 0s 87ms/step - loss: 0.0188 - val_loss: 0.0014\n",
      "Epoch 57/150\n",
      "4/4 [==============================] - 0s 83ms/step - loss: 0.0188 - val_loss: 0.0014\n",
      "Epoch 58/150\n",
      "4/4 [==============================] - 0s 83ms/step - loss: 0.0187 - val_loss: 0.0014\n",
      "Epoch 59/150\n",
      "4/4 [==============================] - 0s 89ms/step - loss: 0.0187 - val_loss: 0.0014\n",
      "Epoch 60/150\n",
      "4/4 [==============================] - 0s 84ms/step - loss: 0.0187 - val_loss: 0.0014\n",
      "Epoch 61/150\n",
      "4/4 [==============================] - 0s 83ms/step - loss: 0.0187 - val_loss: 0.0014\n",
      "Epoch 62/150\n",
      "4/4 [==============================] - 0s 91ms/step - loss: 0.0187 - val_loss: 0.0014\n",
      "Epoch 63/150\n",
      "4/4 [==============================] - 0s 82ms/step - loss: 0.0187 - val_loss: 0.0014\n",
      "Epoch 64/150\n",
      "4/4 [==============================] - 0s 82ms/step - loss: 0.0186 - val_loss: 0.0014\n",
      "Epoch 65/150\n",
      "4/4 [==============================] - 0s 90ms/step - loss: 0.0186 - val_loss: 0.0014\n",
      "Epoch 66/150\n",
      "4/4 [==============================] - 0s 83ms/step - loss: 0.0186 - val_loss: 0.0014\n",
      "Epoch 67/150\n",
      "4/4 [==============================] - 0s 87ms/step - loss: 0.0186 - val_loss: 0.0014\n",
      "Epoch 68/150\n",
      "4/4 [==============================] - 0s 84ms/step - loss: 0.0186 - val_loss: 0.0014\n",
      "Epoch 69/150\n",
      "4/4 [==============================] - 0s 84ms/step - loss: 0.0186 - val_loss: 0.0014\n",
      "Epoch 70/150\n",
      "4/4 [==============================] - 0s 88ms/step - loss: 0.0185 - val_loss: 0.0014\n",
      "Epoch 71/150\n",
      "4/4 [==============================] - 0s 83ms/step - loss: 0.0185 - val_loss: 0.0013\n",
      "Epoch 72/150\n",
      "4/4 [==============================] - 0s 83ms/step - loss: 0.0185 - val_loss: 0.0013\n",
      "Epoch 73/150\n",
      "4/4 [==============================] - 0s 83ms/step - loss: 0.0185 - val_loss: 0.0013\n",
      "Epoch 74/150\n",
      "4/4 [==============================] - 0s 85ms/step - loss: 0.0185 - val_loss: 0.0013\n",
      "Epoch 75/150\n",
      "4/4 [==============================] - 0s 81ms/step - loss: 0.0185 - val_loss: 0.0013\n",
      "Epoch 76/150\n",
      "4/4 [==============================] - 0s 80ms/step - loss: 0.0185 - val_loss: 0.0013\n",
      "Epoch 77/150\n",
      "4/4 [==============================] - 0s 85ms/step - loss: 0.0184 - val_loss: 0.0013\n",
      "Epoch 78/150\n",
      "4/4 [==============================] - 0s 84ms/step - loss: 0.0184 - val_loss: 0.0013\n",
      "Epoch 79/150\n",
      "4/4 [==============================] - 0s 87ms/step - loss: 0.0184 - val_loss: 0.0013\n",
      "Epoch 80/150\n",
      "4/4 [==============================] - 0s 86ms/step - loss: 0.0184 - val_loss: 0.0013\n",
      "Epoch 81/150\n",
      "4/4 [==============================] - 0s 86ms/step - loss: 0.0184 - val_loss: 0.0013\n",
      "Epoch 82/150\n",
      "4/4 [==============================] - 0s 81ms/step - loss: 0.0184 - val_loss: 0.0013\n",
      "Epoch 83/150\n",
      "4/4 [==============================] - 0s 83ms/step - loss: 0.0184 - val_loss: 0.0013\n",
      "Epoch 84/150\n",
      "4/4 [==============================] - 0s 92ms/step - loss: 0.0184 - val_loss: 0.0013\n",
      "Epoch 85/150\n",
      "4/4 [==============================] - 0s 86ms/step - loss: 0.0183 - val_loss: 0.0013\n",
      "Epoch 86/150\n",
      "4/4 [==============================] - 0s 81ms/step - loss: 0.0183 - val_loss: 0.0013\n",
      "Epoch 87/150\n",
      "4/4 [==============================] - 0s 89ms/step - loss: 0.0183 - val_loss: 0.0013\n",
      "Epoch 88/150\n",
      "4/4 [==============================] - 0s 83ms/step - loss: 0.0183 - val_loss: 0.0013\n",
      "Epoch 89/150\n",
      "4/4 [==============================] - 0s 83ms/step - loss: 0.0183 - val_loss: 0.0013\n",
      "Epoch 90/150\n",
      "4/4 [==============================] - 0s 89ms/step - loss: 0.0183 - val_loss: 0.0013\n",
      "Epoch 91/150\n",
      "4/4 [==============================] - 0s 86ms/step - loss: 0.0183 - val_loss: 0.0013\n",
      "Epoch 92/150\n",
      "4/4 [==============================] - 0s 85ms/step - loss: 0.0182 - val_loss: 0.0013\n",
      "Epoch 93/150\n",
      "4/4 [==============================] - 0s 89ms/step - loss: 0.0182 - val_loss: 0.0013\n",
      "Epoch 94/150\n",
      "4/4 [==============================] - 0s 83ms/step - loss: 0.0182 - val_loss: 0.0013\n",
      "Epoch 95/150\n",
      "4/4 [==============================] - 0s 83ms/step - loss: 0.0182 - val_loss: 0.0013\n",
      "Epoch 96/150\n",
      "4/4 [==============================] - 0s 87ms/step - loss: 0.0182 - val_loss: 0.0013\n",
      "Epoch 97/150\n",
      "4/4 [==============================] - 0s 85ms/step - loss: 0.0182 - val_loss: 0.0013\n",
      "Epoch 98/150\n",
      "4/4 [==============================] - 0s 79ms/step - loss: 0.0182 - val_loss: 0.0013\n",
      "Epoch 99/150\n",
      "4/4 [==============================] - 0s 84ms/step - loss: 0.0181 - val_loss: 0.0013\n",
      "Epoch 100/150\n",
      "4/4 [==============================] - 0s 85ms/step - loss: 0.0181 - val_loss: 0.0013\n",
      "Epoch 101/150\n",
      "4/4 [==============================] - 0s 82ms/step - loss: 0.0181 - val_loss: 0.0013\n",
      "Epoch 102/150\n",
      "4/4 [==============================] - 0s 86ms/step - loss: 0.0181 - val_loss: 0.0013\n",
      "Epoch 103/150\n",
      "4/4 [==============================] - 0s 82ms/step - loss: 0.0181 - val_loss: 0.0013\n",
      "Epoch 104/150\n",
      "4/4 [==============================] - 0s 86ms/step - loss: 0.0181 - val_loss: 0.0013\n",
      "Epoch 105/150\n",
      "4/4 [==============================] - 0s 84ms/step - loss: 0.0180 - val_loss: 0.0013\n",
      "Epoch 106/150\n",
      "4/4 [==============================] - 0s 83ms/step - loss: 0.0180 - val_loss: 0.0013\n",
      "Epoch 107/150\n",
      "4/4 [==============================] - 0s 74ms/step - loss: 0.0180 - val_loss: 0.0013\n",
      "Epoch 108/150\n",
      "4/4 [==============================] - 0s 76ms/step - loss: 0.0180 - val_loss: 0.0013\n",
      "Epoch 109/150\n",
      "4/4 [==============================] - 0s 80ms/step - loss: 0.0180 - val_loss: 0.0013\n",
      "Epoch 110/150\n",
      "4/4 [==============================] - 0s 76ms/step - loss: 0.0180 - val_loss: 0.0013\n",
      "Epoch 111/150\n",
      "4/4 [==============================] - 0s 75ms/step - loss: 0.0179 - val_loss: 0.0013\n",
      "Epoch 112/150\n",
      "4/4 [==============================] - 0s 83ms/step - loss: 0.0179 - val_loss: 0.0013\n",
      "Epoch 113/150\n",
      "4/4 [==============================] - 0s 78ms/step - loss: 0.0179 - val_loss: 0.0013\n",
      "Epoch 114/150\n",
      "4/4 [==============================] - 0s 75ms/step - loss: 0.0179 - val_loss: 0.0013\n",
      "Epoch 00114: early stopping\n"
     ]
    }
   ],
   "source": [
    "model_univariate_path = os.path.join(MODEL_PATH, 'model-lstm-desembolso-univariate.h5')\n",
    "\n",
    "history = lstm_model.fit(x=X_train,\n",
    "                         y=y_train,\n",
    "                         validation_data=(X_valid, y_valid),\n",
    "                         epochs=150,\n",
    "                         shuffle=False,\n",
    "                         batch_size=BATCH_SIZE,\n",
    "                         callbacks =[tf.keras.callbacks.EarlyStopping(monitor='val_loss', min_delta=0, patience=10,verbose=1, mode='min'),\n",
    "                                     tf.keras.callbacks.ModelCheckpoint(model_univariate_path, monitor='val_loss', save_best_only=True, mode='min', verbose=0)]\n",
    "                        )"
   ]
  },
  {
   "cell_type": "code",
   "execution_count": 19,
   "id": "0cd3a73d-c87a-4091-8879-fd4a3f305720",
   "metadata": {},
   "outputs": [
    {
     "data": {
      "image/png": "[encoded data removed]",
      "text/plain": [
       "<Figure size 1152x648 with 1 Axes>"
      ]
     },
     "metadata": {
      "needs_background": "light"
     },
     "output_type": "display_data"
    }
   ],
   "source": [
    "plt.plot(history.history['loss'])\n",
    "plt.plot(history.history['val_loss'])\n",
    "plt.title('Model loss')\n",
    "plt.ylabel('loss')\n",
    "plt.xlabel('epoch')\n",
    "plt.legend(['train loss', 'validation loss'], loc='upper left')\n",
    "plt.rcParams[\"figure.figsize\"] = [16,9]\n",
    "plt.show()"
   ]
  },
  {
   "cell_type": "code",
   "execution_count": 20,
   "id": "f3fd300c-233a-43f2-8859-365462d39ca8",
   "metadata": {},
   "outputs": [],
   "source": [
    "model_univariate = tf.keras.models.load_model(model_univariate_path)"
   ]
  },
  {
   "cell_type": "code",
   "execution_count": 21,
   "id": "d6962e2e-8c03-47ba-b4a2-3d42d1d03c95",
   "metadata": {},
   "outputs": [],
   "source": [
    "X_test_rs = X_test.reshape(X_test.shape[0], WINDOW_SIZE, 1)\n",
    "\n",
    "y_predict = model_univariate.predict(X_test_rs)\n",
    "\n",
    "y_predict = scaler.inverse_transform(y_predict)\n",
    "\n",
    "y_test_rs = y_test.reshape(-1,1)\n",
    "y_true = scaler.inverse_transform(y_test_rs)\n",
    "\n",
    "y_predict_univariate_lstm = y_predict.squeeze()\n",
    "y_true_univariate_lstm = y_true.squeeze()"
   ]
  },
  {
   "cell_type": "code",
   "execution_count": 22,
   "id": "59bcc9bd-979e-4191-bddd-97c58d6e4717",
   "metadata": {},
   "outputs": [
    {
     "name": "stdout",
     "output_type": "stream",
     "text": [
      "[255.68976 219.5034  218.9677  221.34166 271.82642 368.66098 417.3639\n",
      " 402.2367  363.8955  343.2386  317.0673  323.8973  293.1667  264.34625\n",
      " 309.00122 346.57922 393.12003 402.0589  385.4356  372.8481  375.9213\n",
      " 400.9491 ]\n"
     ]
    }
   ],
   "source": [
    "print(y_predict_univariate_lstm)"
   ]
  },
  {
   "cell_type": "code",
   "execution_count": 23,
   "id": "329e8955-05dd-45b2-90a3-7e027a7dae2a",
   "metadata": {},
   "outputs": [
    {
     "data": {
      "image/png": "[encoded data removed]",
      "text/plain": [
       "<Figure size 1440x432 with 1 Axes>"
      ]
     },
     "metadata": {
      "needs_background": "light"
     },
     "output_type": "display_data"
    }
   ],
   "source": [
    "y_train_rs = y_train.reshape(-1,1)\n",
    "y_train_rs = scaler.inverse_transform(y_train_rs)\n",
    "y_train_rs = y_train_rs.squeeze()\n",
    "\n",
    "y_valid_rs = y_valid.reshape(-1,1)\n",
    "y_valid_rs = scaler.inverse_transform(y_valid_rs)\n",
    "y_valid_rs = y_valid_rs.squeeze()\n",
    "\n",
    "len_train = len(y_train_rs)\n",
    "len_with_valid = len(y_train_rs) + len(y_valid_rs)\n",
    "len_with_test = len(y_train) + len(y_valid) + len(y_test)\n",
    "\n",
    "plt.figure(figsize=(20,6))\n",
    "plt.xticks(rotation='vertical')\n",
    "plt.gca().xaxis.set_major_locator(plt.MultipleLocator(2))\n",
    "plt.plot(desembolso_time[:len_train], y_train_rs, 'b--', label=\"train\")\n",
    "plt.plot(desembolso_time[len_train:len_with_valid], y_valid_rs, color='green', linestyle=\"--\", label=\"validation\")\n",
    "plt.plot(desembolso_time[len_with_valid:len_with_test], y_true_univariate_lstm, color='orange', linestyle='--', label=\"test\")\n",
    "plt.plot(desembolso_time[len_with_valid:len_with_test], y_predict_univariate_lstm, 'r--', label=\"predictions\")\n",
    "plt.legend(loc='upper left')\n",
    "plt.title(f\"Univariate LST Prevision\")\n",
    "plt.grid(alpha=0.3);"
   ]
  },
  {
   "cell_type": "code",
   "execution_count": 24,
   "id": "83ef5466-a562-49c9-ace7-c801c7a38134",
   "metadata": {},
   "outputs": [
    {
     "name": "stdout",
     "output_type": "stream",
     "text": [
      "Mean Squared Error: 11765.67833219084 \n",
      "Mean Absolute Error: 87.79699772998049\n",
      "R2 Score: -0.028181918990430876\n"
     ]
    }
   ],
   "source": [
    "univariate_lstm_mse = mean_squared_error(y_true, y_predict_univariate_lstm, squared=True)\n",
    "univariate_lstm_mae = mean_absolute_error(y_true, y_predict_univariate_lstm)\n",
    "univariate_lstm_r2 = r2_score(y_true, y_predict_univariate_lstm)\n",
    "print(f'Mean Squared Error: {univariate_lstm_mse} ')\n",
    "print(f'Mean Absolute Error: {univariate_lstm_mae}')\n",
    "print(f'R2 Score: {univariate_lstm_r2}')"
   ]
  }
 ],
 "metadata": {
  "kernelspec": {
   "display_name": "Python 3 (ipykernel)",
   "language": "python",
   "name": "python3"
  },
  "language_info": {
   "codemirror_mode": {
    "name": "ipython",
    "version": 3
   },
   "file_extension": ".py",
   "mimetype": "text/x-python",
   "name": "python",
   "nbconvert_exporter": "python",
   "pygments_lexer": "ipython3",
   "version": "3.9.7"
  }
 },
 "nbformat": 4,
 "nbformat_minor": 5
}
