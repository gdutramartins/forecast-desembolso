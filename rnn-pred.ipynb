{
 "cells": [
  {
   "cell_type": "markdown",
   "id": "61139beb-1451-453e-91c2-472ff48324d7",
   "metadata": {},
   "source": [
    "# Previsão com Redes Neurais Recorrentes\n"
   ]
  },
  {
   "cell_type": "code",
   "execution_count": 16,
   "id": "4c733e17-9d54-4447-925e-7d0b8f87e140",
   "metadata": {},
   "outputs": [],
   "source": [
    "import pandas as pd\n",
    "from pandas import Grouper, DataFrame\n",
    "\n",
    "from typing import Tuple, List, Callable, Dict\n",
    "\n",
    "import numpy as np\n",
    "import os\n",
    "from datetime import datetime\n",
    "import random\n",
    "import time\n",
    "\n",
    "from matplotlib import pyplot as plt\n",
    "import seaborn as sns\n",
    "\n",
    "import inspect\n",
    "import warnings\n",
    "\n",
    "from sklearn.metrics import mean_absolute_error, mean_squared_error, r2_score\n",
    "from sklearn.preprocessing import MinMaxScaler\n",
    "\n",
    "from statsmodels.tsa.arima.model import ARIMA\n",
    "import statsmodels.api as sm\n",
    "\n",
    "import pickle\n",
    "\n",
    "import tensorflow as tf\n",
    "\n",
    "from math import ceil"
   ]
  },
  {
   "cell_type": "markdown",
   "id": "75725585-2b12-46ae-8f70-d116be9d8d38",
   "metadata": {},
   "source": [
    "## Constantes"
   ]
  },
  {
   "cell_type": "code",
   "execution_count": 28,
   "id": "ab549efb-7b2d-4675-ba08-87653caa361f",
   "metadata": {},
   "outputs": [],
   "source": [
    "DIR_DATASET: str = os.path.join('datasets', 'dados-gerados')\n",
    "\n",
    "DATASET_OEC_MPME = os.path.join(DIR_DATASET,  'oec_mpme.csv')\n",
    "\n",
    "DAT_CORRENTE = datetime.today().strftime(\"%Y-%m-%d\")\n",
    "\n",
    "TEST_SPLIT_SIZE = 10\n",
    "VAL_SPLIT_SIZE = 10\n",
    "WINDOW_SIZE = 18\n",
    "\n",
    "MEAN_SQUARED_METRIC = \"mean_squeared\"\n",
    "MEAN_ABSOLUTE_METRIC = \"mean_absolute\"\n",
    "R2_METRIC = \"r2\"\n",
    "\n",
    "MODEL_PATH = 'MODEL'\n",
    "SCALER_FILE_NAME = os.path.join(MODEL_PATH, 'scaler.pkl')\n",
    "\n",
    "BATCH_SIZE = 30\n"
   ]
  },
  {
   "cell_type": "markdown",
   "id": "fda3dbc4-53a7-4505-aa3a-2805e8a1148b",
   "metadata": {},
   "source": [
    "## Funções"
   ]
  },
  {
   "cell_type": "code",
   "execution_count": 3,
   "id": "580e932c-d5d7-4d3e-98d8-900fa1935e6b",
   "metadata": {
    "tags": []
   },
   "outputs": [],
   "source": [
    "# Returns X_train, y_train, X_valid, y_valid, X_test, y_test\n",
    "def split_train_validation_test_window_dataset(full_dataset: np.ndarray, \n",
    "                                               val_percentual_size: int, \n",
    "                                               test_percentual_size: int, \n",
    "                                               window_size: int) -> Tuple[np.ndarray, np.ndarray, np.ndarray, np.ndarray, np.ndarray, np.ndarray]:\n",
    "    dataset_size: int = full_dataset.shape[0]\n",
    "    cut_pos_test: int = round(dataset_size - (dataset_size * (test_percentual_size/100)))\n",
    "    cut_pos_val: int = round(cut_pos_test - (dataset_size * (val_percentual_size/100)))\n",
    "    \n",
    "    test_dataset_size: int = dataset_size - cut_pos_test\n",
    "    val_dataset_size: int = dataset_size - cut_pos_val - test_dataset_size\n",
    "    \n",
    "    y_train: np.ndarray = full_dataset[window_size : cut_pos_val]\n",
    "    y_val: np.ndarray = full_dataset[cut_pos_val : cut_pos_test]\n",
    "    y_test: np.ndarray = full_dataset[cut_pos_test:]\n",
    "    \n",
    "    train_dataset_list = [full_dataset[ind : ind + window_size] for ind in range (cut_pos_val - window_size)]\n",
    "    X_train = np.array(train_dataset_list)\n",
    "    \n",
    "    val_dataset_list = [full_dataset[cut_pos_val + ind - window_size :cut_pos_val + ind] for ind in range (val_dataset_size)]\n",
    "    X_valid = np.array(val_dataset_list)\n",
    "    \n",
    "    test_dataset_list = [full_dataset[cut_pos_test + ind - window_size :cut_pos_test + ind] for ind in range (test_dataset_size)]\n",
    "    X_test = np.array(test_dataset_list)\n",
    "    \n",
    "    return (X_train, y_train, X_valid, y_val, X_test, y_test)"
   ]
  },
  {
   "cell_type": "markdown",
   "id": "1d6f9a88-d7fc-485d-a5d3-4ea031ce43dc",
   "metadata": {},
   "source": [
    "## Carrega Datasets"
   ]
  },
  {
   "cell_type": "code",
   "execution_count": 4,
   "id": "27491cb5-652b-4f0f-a27c-93dbdf249781",
   "metadata": {},
   "outputs": [],
   "source": [
    "df_oec_mpme = pd.read_csv(DATASET_OEC_MPME, sep=';', decimal=',', parse_dates=True)\n",
    "df_oec_mpme.index = pd.DatetimeIndex(df_oec_mpme.data_base)\n",
    "df_oec_mpme[\"ano_mes\"] = pd.DatetimeIndex(df_oec_mpme.data_base).strftime('%Y-%m')\n",
    "df_oec_mpme_desembolso = df_oec_mpme[['desembolso','ano','mes', 'ano_mes']]\n",
    "\n",
    "desembolso = df_oec_mpme_desembolso[[\"desembolso\"]].to_numpy().squeeze()\n",
    "desembolso_time = df_oec_mpme_desembolso[[\"ano_mes\"]].to_numpy().squeeze()"
   ]
  },
  {
   "cell_type": "code",
   "execution_count": 5,
   "id": "c7ff32ed-e9e3-4f05-99ca-1abbe53e262b",
   "metadata": {},
   "outputs": [],
   "source": [
    "scaler = MinMaxScaler()\n",
    "desembolso = desembolso.reshape(-1,1)\n",
    "scaler.fit(desembolso)\n",
    "desembolso = scaler.transform(desembolso)\n",
    "desembolso = desembolso.squeeze()\n",
    "\n",
    "pickle.dump(scaler, open(SCALER_FILE_NAME, 'wb'))"
   ]
  },
  {
   "cell_type": "code",
   "execution_count": 19,
   "id": "f979f9e6-375f-44bb-aea1-bd490f864708",
   "metadata": {},
   "outputs": [],
   "source": [
    "(X_train, y_train, X_valid, y_valid, X_test, y_test) = split_train_validation_test_window_dataset(desembolso, VAL_SPLIT_SIZE, TEST_SPLIT_SIZE, WINDOW_SIZE)"
   ]
  },
  {
   "cell_type": "code",
   "execution_count": 27,
   "id": "c31e54ff-6851-4074-9e52-f8f9bb3a8030",
   "metadata": {},
   "outputs": [],
   "source": [
    "n_samples = X_train.shape[0]\n",
    "n_timesteps = X_train.shape[1]\n",
    "n_features = 1 #univariate\n",
    "\n",
    "X_train_rs = X_train.reshape(n_samples, n_timesteps, n_features)\n",
    "X_valid_rs = X_valid.reshape(X_valid.shape[0], n_timesteps, n_features)"
   ]
  },
  {
   "cell_type": "markdown",
   "id": "34fa024a-5ba2-4a04-83f0-f6f860ad6705",
   "metadata": {},
   "source": [
    "---\n",
    "### Univariate LSTM"
   ]
  },
  {
   "cell_type": "code",
   "execution_count": 13,
   "id": "f092c606-f3ea-4cc7-b260-ee1fba4e7bbb",
   "metadata": {},
   "outputs": [],
   "source": [
    "#train_univariate = tf.data.Dataset.from_tensor_slices((X_train, y_train))\n",
    "#train_univariate = train_univariate.cache().shuffle(BUFFER_SIZE).batch(BATCH_SIZE).repeat()\n",
    "#val_univariate = tf.data.Dataset.from_tensor_slices((X_valid, y_valid))\n",
    "#val_univariate = val_univariate.batch(BATCH_SIZE).repeat()"
   ]
  },
  {
   "cell_type": "code",
   "execution_count": 29,
   "id": "b63e762c-0257-46d9-bec4-919efdde6567",
   "metadata": {},
   "outputs": [],
   "source": [
    "# RNN recebe input_shape no seguinte formato\n",
    "# (N,T,D), where N is the number of samples, T is length of time sequence and D is the number of features\n",
    "\n",
    "lstm_model = tf.keras.models.Sequential([\n",
    "    tf.keras.layers.LSTM(100, input_shape=(n_timesteps,n_features),return_sequences=True),\n",
    "    tf.keras.layers.Dropout(0.2),\n",
    "    tf.keras.layers.LSTM(units=50,return_sequences=False),\n",
    "    tf.keras.layers.Dropout(0.2),\n",
    "    tf.keras.layers.Dense(units=1),\n",
    "])\n",
    "\n",
    "lstm_model.compile(optimizer='adam', loss='mse')\n"
   ]
  },
  {
   "cell_type": "code",
   "execution_count": 30,
   "id": "c87812df-4386-4a6c-b0d2-d181ce58a858",
   "metadata": {},
   "outputs": [
    {
     "name": "stdout",
     "output_type": "stream",
     "text": [
      "Epoch 1/150\n",
      "4/4 [==============================] - 2s 167ms/step - loss: 0.0708 - val_loss: 0.0061\n",
      "Epoch 2/150\n",
      "4/4 [==============================] - 0s 15ms/step - loss: 0.0260 - val_loss: 0.0168\n",
      "Epoch 3/150\n",
      "4/4 [==============================] - 0s 19ms/step - loss: 0.0231 - val_loss: 0.0053\n",
      "Epoch 4/150\n",
      "4/4 [==============================] - 0s 20ms/step - loss: 0.0209 - val_loss: 0.0035\n",
      "Epoch 5/150\n",
      "4/4 [==============================] - 0s 15ms/step - loss: 0.0227 - val_loss: 0.0053\n",
      "Epoch 6/150\n",
      "4/4 [==============================] - 0s 15ms/step - loss: 0.0217 - val_loss: 0.0065\n",
      "Epoch 7/150\n",
      "4/4 [==============================] - 0s 14ms/step - loss: 0.0208 - val_loss: 0.0053\n",
      "Epoch 8/150\n",
      "4/4 [==============================] - 0s 14ms/step - loss: 0.0194 - val_loss: 0.0047\n",
      "Epoch 9/150\n",
      "4/4 [==============================] - 0s 19ms/step - loss: 0.0189 - val_loss: 0.0035\n",
      "Epoch 10/150\n",
      "4/4 [==============================] - 0s 18ms/step - loss: 0.0187 - val_loss: 0.0024\n",
      "Epoch 11/150\n",
      "4/4 [==============================] - 0s 14ms/step - loss: 0.0177 - val_loss: 0.0027\n",
      "Epoch 12/150\n",
      "4/4 [==============================] - 0s 14ms/step - loss: 0.0193 - val_loss: 0.0026\n",
      "Epoch 13/150\n",
      "4/4 [==============================] - 0s 19ms/step - loss: 0.0210 - val_loss: 0.0021\n",
      "Epoch 14/150\n",
      "4/4 [==============================] - 0s 14ms/step - loss: 0.0185 - val_loss: 0.0022\n",
      "Epoch 15/150\n",
      "4/4 [==============================] - 0s 14ms/step - loss: 0.0179 - val_loss: 0.0039\n",
      "Epoch 16/150\n",
      "4/4 [==============================] - 0s 14ms/step - loss: 0.0223 - val_loss: 0.0027\n",
      "Epoch 17/150\n",
      "4/4 [==============================] - 0s 19ms/step - loss: 0.0193 - val_loss: 0.0021\n",
      "Epoch 18/150\n",
      "4/4 [==============================] - 0s 19ms/step - loss: 0.0197 - val_loss: 0.0020\n",
      "Epoch 19/150\n",
      "4/4 [==============================] - 0s 14ms/step - loss: 0.0177 - val_loss: 0.0028\n",
      "Epoch 20/150\n",
      "4/4 [==============================] - 0s 14ms/step - loss: 0.0168 - val_loss: 0.0051\n",
      "Epoch 21/150\n",
      "4/4 [==============================] - 0s 14ms/step - loss: 0.0202 - val_loss: 0.0037\n",
      "Epoch 22/150\n",
      "4/4 [==============================] - 0s 20ms/step - loss: 0.0166 - val_loss: 0.0017\n",
      "Epoch 23/150\n",
      "4/4 [==============================] - 0s 14ms/step - loss: 0.0178 - val_loss: 0.0019\n",
      "Epoch 24/150\n",
      "4/4 [==============================] - 0s 14ms/step - loss: 0.0171 - val_loss: 0.0042\n",
      "Epoch 25/150\n",
      "4/4 [==============================] - 0s 14ms/step - loss: 0.0219 - val_loss: 0.0043\n",
      "Epoch 26/150\n",
      "4/4 [==============================] - 0s 15ms/step - loss: 0.0196 - val_loss: 0.0018\n",
      "Epoch 27/150\n",
      "4/4 [==============================] - 0s 19ms/step - loss: 0.0205 - val_loss: 0.0015\n",
      "Epoch 28/150\n",
      "4/4 [==============================] - 0s 11ms/step - loss: 0.0207 - val_loss: 0.0024\n",
      "Epoch 29/150\n",
      "4/4 [==============================] - 0s 15ms/step - loss: 0.0168 - val_loss: 0.0049\n",
      "Epoch 30/150\n",
      "4/4 [==============================] - 0s 14ms/step - loss: 0.0167 - val_loss: 0.0050\n",
      "Epoch 31/150\n",
      "4/4 [==============================] - 0s 14ms/step - loss: 0.0182 - val_loss: 0.0025\n",
      "Epoch 32/150\n",
      "4/4 [==============================] - 0s 15ms/step - loss: 0.0183 - val_loss: 0.0018\n",
      "Epoch 33/150\n",
      "4/4 [==============================] - 0s 15ms/step - loss: 0.0188 - val_loss: 0.0023\n",
      "Epoch 34/150\n",
      "4/4 [==============================] - 0s 14ms/step - loss: 0.0160 - val_loss: 0.0027\n",
      "Epoch 35/150\n",
      "4/4 [==============================] - 0s 14ms/step - loss: 0.0169 - val_loss: 0.0028\n",
      "Epoch 36/150\n",
      "4/4 [==============================] - 0s 15ms/step - loss: 0.0183 - val_loss: 0.0022\n",
      "Epoch 37/150\n",
      "4/4 [==============================] - 0s 15ms/step - loss: 0.0173 - val_loss: 0.0021\n",
      "Epoch 00037: early stopping\n"
     ]
    }
   ],
   "source": [
    "model_univariate_path = os.path.join(MODEL_PATH, 'model-lstm-desembolso-univariate.h5')\n",
    "\n",
    "history = lstm_model.fit(x=X_train,\n",
    "                         y=y_train,\n",
    "                         validation_data=(X_valid, y_valid),\n",
    "                         epochs=150,\n",
    "                         batch_size=BATCH_SIZE,\n",
    "                         callbacks =[tf.keras.callbacks.EarlyStopping(monitor='val_loss', min_delta=0, patience=10,verbose=1, mode='min'),\n",
    "                                     tf.keras.callbacks.ModelCheckpoint(model_univariate_path, monitor='val_loss', save_best_only=True, mode='min', verbose=0)]\n",
    "                        )"
   ]
  },
  {
   "cell_type": "code",
   "execution_count": 31,
   "id": "0cd3a73d-c87a-4091-8879-fd4a3f305720",
   "metadata": {},
   "outputs": [
    {
     "data": {
      "image/png": "[encoded data removed]",
      "text/plain": [
       "<Figure size 432x288 with 1 Axes>"
      ]
     },
     "metadata": {
      "needs_background": "light"
     },
     "output_type": "display_data"
    }
   ],
   "source": [
    "plt.plot(history.history['loss'])\n",
    "plt.plot(history.history['val_loss'])\n",
    "plt.title('Model loss')\n",
    "plt.ylabel('loss')\n",
    "plt.xlabel('epoch')\n",
    "plt.legend(['train loss', 'validation loss'], loc='upper left')\n",
    "plt.rcParams[\"figure.figsize\"] = [16,9]\n",
    "plt.show()"
   ]
  },
  {
   "cell_type": "code",
   "execution_count": null,
   "id": "f3fd300c-233a-43f2-8859-365462d39ca8",
   "metadata": {},
   "outputs": [],
   "source": []
  }
 ],
 "metadata": {
  "kernelspec": {
   "display_name": "Python 3 (ipykernel)",
   "language": "python",
   "name": "python3"
  },
  "language_info": {
   "codemirror_mode": {
    "name": "ipython",
    "version": 3
   },
   "file_extension": ".py",
   "mimetype": "text/x-python",
   "name": "python",
   "nbconvert_exporter": "python",
   "pygments_lexer": "ipython3",
   "version": "3.9.7"
  }
 },
 "nbformat": 4,
 "nbformat_minor": 5
}
